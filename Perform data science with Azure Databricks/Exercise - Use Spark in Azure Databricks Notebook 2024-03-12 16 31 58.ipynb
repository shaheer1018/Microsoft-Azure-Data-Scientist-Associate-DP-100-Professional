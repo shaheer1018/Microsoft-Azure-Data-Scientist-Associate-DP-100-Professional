{
 "cells": [
  {
   "cell_type": "markdown",
   "metadata": {
    "application/vnd.databricks.v1+cell": {
     "cellMetadata": {},
     "inputWidgets": {},
     "nuid": "8be4125f-5ebd-4043-a271-befd57a9ebf8",
     "showTitle": false,
     "title": ""
    }
   },
   "source": [
    "Code in the cell below uses shell commands to download data files from GitHub into the Databricks File System (DBFS) used by your cluster"
   ]
  },
  {
   "cell_type": "code",
   "execution_count": 0,
   "metadata": {
    "application/vnd.databricks.v1+cell": {
     "cellMetadata": {
      "byteLimit": 2048000,
      "rowLimit": 10000
     },
     "inputWidgets": {},
     "nuid": "65bc0f0b-6581-4c29-977e-a9f6dda69685",
     "showTitle": false,
     "title": ""
    }
   },
   "outputs": [
    {
     "output_type": "stream",
     "name": "stderr",
     "output_type": "stream",
     "text": [
      "rm: cannot remove '/dbfs/spark_lab': No such file or directory\n--2024-03-12 11:37:42--  https://raw.githubusercontent.com/MicrosoftLearning/mslearn-databricks/main/data/2019.csv\nResolving raw.githubusercontent.com (raw.githubusercontent.com)... 185.199.111.133, 185.199.108.133, 185.199.110.133, ...\nConnecting to raw.githubusercontent.com (raw.githubusercontent.com)|185.199.111.133|:443... connected.\nHTTP request sent, awaiting response... 200 OK\nLength: 122681 (120K) [text/plain]\nSaving to: ‘/dbfs/spark_lab/2019.csv’\n\n     0K .......... .......... .......... .......... .......... 41%  706K 0s\n    50K .......... .......... .......... .......... .......... 83%  966K 0s\n   100K .......... .........                                  100% 6.69M=0.1s\n\n2024-03-12 11:37:43 (955 KB/s) - ‘/dbfs/spark_lab/2019.csv’ saved [122681/122681]\n\n--2024-03-12 11:37:43--  https://raw.githubusercontent.com/MicrosoftLearning/mslearn-databricks/main/data/2020.csv\nResolving raw.githubusercontent.com (raw.githubusercontent.com)... 185.199.108.133, 185.199.110.133, 185.199.109.133, ...\nConnecting to raw.githubusercontent.com (raw.githubusercontent.com)|185.199.108.133|:443... connected.\nHTTP request sent, awaiting response... 200 OK\nLength: 283396 (277K) [text/plain]\nSaving to: ‘/dbfs/spark_lab/2020.csv’\n\n     0K .......... .......... .......... .......... .......... 18%  887K 0s\n    50K .......... .......... .......... .......... .......... 36% 1.10M 0s\n   100K .......... .......... .......... .......... .......... 54% 3.89M 0s\n   150K .......... .......... .......... .......... .......... 72% 4.63M 0s\n   200K .......... .......... .......... .......... .......... 90% 1.67M 0s\n   250K .......... .......... ......                          100% 8.44M=0.2s\n\n2024-03-12 11:37:44 (1.73 MB/s) - ‘/dbfs/spark_lab/2020.csv’ saved [283396/283396]\n\n--2024-03-12 11:37:44--  https://raw.githubusercontent.com/MicrosoftLearning/mslearn-databricks/main/data/2021.csv\nResolving raw.githubusercontent.com (raw.githubusercontent.com)... 185.199.110.133, 185.199.111.133, 185.199.108.133, ...\nConnecting to raw.githubusercontent.com (raw.githubusercontent.com)|185.199.110.133|:443... connected.\nHTTP request sent, awaiting response... 200 OK\nLength: 2869399 (2.7M) [text/plain]\nSaving to: ‘/dbfs/spark_lab/2021.csv’\n\n     0K .......... .......... .......... .......... ..........  1%  829K 3s\n    50K .......... .......... .......... .......... ..........  3% 1.11M 3s\n   100K .......... .......... .......... .......... ..........  5% 3.94M 2s\n   150K .......... .......... .......... .......... ..........  7% 4.49M 2s\n   200K .......... .......... .......... .......... ..........  8% 1.82M 2s\n   250K .......... .......... .......... .......... .......... 10% 5.88M 1s\n   300K .......... .......... .......... .......... .......... 12% 8.63M 1s\n   350K .......... .......... .......... .......... .......... 14% 7.89M 1s\n   400K .......... .......... .......... .......... .......... 16% 7.55M 1s\n   450K .......... .......... .......... .......... .......... 17% 11.4M 1s\n   500K .......... .......... .......... .......... .......... 19% 2.22M 1s\n   550K .......... .......... .......... .......... .......... 21% 12.6M 1s\n   600K .......... .......... .......... .......... .......... 23% 15.3M 1s\n   650K .......... .......... .......... .......... .......... 24% 11.5M 1s\n   700K .......... .......... .......... .......... .......... 26% 15.4M 1s\n   750K .......... .......... .......... .......... .......... 28% 17.2M 1s\n   800K .......... .......... .......... .......... .......... 30% 16.8M 1s\n   850K .......... .......... .......... .......... .......... 32% 17.7M 0s\n   900K .......... .......... .......... .......... .......... 33% 20.7M 0s\n   950K .......... .......... .......... .......... .......... 35% 17.3M 0s\n  1000K .......... .......... .......... .......... .......... 37% 21.5M 0s\n  1050K .......... .......... .......... .......... .......... 39% 2.55M 0s\n  1100K .......... .......... .......... .......... .......... 41% 17.5M 0s\n  1150K .......... .......... .......... .......... .......... 42% 9.08M 0s\n  1200K .......... .......... .......... .......... .......... 44% 11.2M 0s\n  1250K .......... .......... .......... .......... .......... 46% 17.0M 0s\n  1300K .......... .......... .......... .......... .......... 48% 33.7M 0s\n  1350K .......... .......... .......... .......... .......... 49% 18.9M 0s\n  1400K .......... .......... .......... .......... .......... 51% 17.0M 0s\n  1450K .......... .......... .......... .......... .......... 53% 18.7M 0s\n  1500K .......... .......... .......... .......... .......... 55% 15.6M 0s\n  1550K .......... .......... .......... .......... .......... 57% 37.9M 0s\n  1600K .......... .......... .......... .......... .......... 58% 35.3M 0s\n  1650K .......... .......... .......... .......... .......... 60% 43.0M 0s\n  1700K .......... .......... .......... .......... .......... 62% 37.7M 0s\n  1750K .......... .......... .......... .......... .......... 64% 15.9M 0s\n  1800K .......... .......... .......... .......... .......... 66% 7.81M 0s\n  1850K .......... .......... .......... .......... .......... 67% 25.3M 0s\n  1900K .......... .......... .......... .......... .......... 69% 10.3M 0s\n  1950K .......... .......... .......... .......... .......... 71% 7.73M 0s\n  2000K .......... .......... .......... .......... .......... 73% 11.2M 0s\n  2050K .......... .......... .......... .......... .......... 74% 17.4M 0s\n  2100K .......... .......... .......... .......... .......... 76% 20.0M 0s\n  2150K .......... .......... .......... .......... .......... 78% 26.7M 0s\n  2200K .......... .......... .......... .......... .......... 80% 31.3M 0s\n  2250K .......... .......... .......... .......... .......... 82% 28.7M 0s\n  2300K .......... .......... .......... .......... .......... 83% 16.4M 0s\n  2350K .......... .......... .......... .......... .......... 85% 26.3M 0s\n  2400K .......... .......... .......... .......... .......... 87% 24.2M 0s\n  2450K .......... .......... .......... .......... .......... 89% 25.2M 0s\n  2500K .......... .......... .......... .......... .......... 91% 26.1M 0s\n  2550K .......... .......... .......... .......... .......... 92% 28.8M 0s\n  2600K .......... .......... .......... .......... .......... 94% 26.7M 0s\n  2650K .......... .......... .......... .......... .......... 96% 30.3M 0s\n  2700K .......... .......... .......... .......... .......... 98% 25.4M 0s\n  2750K .......... .......... .......... .......... .......... 99% 20.6M 0s\n  2800K ..                                                    100% 4.00T=0.3s\n\n2024-03-12 11:37:45 (7.88 MB/s) - ‘/dbfs/spark_lab/2021.csv’ saved [2869399/2869399]\n\n"
     ]
    }
   ],
   "source": [
    " %sh\n",
    " rm -r /dbfs/spark_lab\n",
    " mkdir /dbfs/spark_lab\n",
    " wget -O /dbfs/spark_lab/2019.csv https://raw.githubusercontent.com/MicrosoftLearning/mslearn-databricks/main/data/2019.csv\n",
    " wget -O /dbfs/spark_lab/2020.csv https://raw.githubusercontent.com/MicrosoftLearning/mslearn-databricks/main/data/2020.csv\n",
    " wget -O /dbfs/spark_lab/2021.csv https://raw.githubusercontent.com/MicrosoftLearning/mslearn-databricks/main/data/2021.csv\n"
   ]
  },
  {
   "cell_type": "code",
   "execution_count": 0,
   "metadata": {
    "application/vnd.databricks.v1+cell": {
     "cellMetadata": {
      "byteLimit": 2048000,
      "rowLimit": 10000
     },
     "inputWidgets": {},
     "nuid": "cb3e2d03-027b-4c18-b992-440e7f066e32",
     "showTitle": false,
     "title": ""
    }
   },
   "outputs": [
    {
     "output_type": "display_data",
     "data": {
      "text/html": [
       "<style scoped>\n",
       "  .table-result-container {\n",
       "    max-height: 300px;\n",
       "    overflow: auto;\n",
       "  }\n",
       "  table, th, td {\n",
       "    border: 1px solid black;\n",
       "    border-collapse: collapse;\n",
       "  }\n",
       "  th, td {\n",
       "    padding: 5px;\n",
       "  }\n",
       "  th {\n",
       "    text-align: left;\n",
       "  }\n",
       "</style><div class='table-result-container'><table class='table-result'><thead style='background-color: white'><tr><th>_c0</th><th>_c1</th><th>_c2</th><th>_c3</th><th>_c4</th><th>_c5</th><th>_c6</th><th>_c7</th><th>_c8</th></tr></thead><tbody><tr><td>SO49171</td><td>1</td><td>2021-01-01</td><td>Mariah Foster</td><td>mariah21@adventure-works.com</td><td>Road-250 Black, 48</td><td>1</td><td>2181.5625</td><td>174.525</td></tr><tr><td>SO49172</td><td>1</td><td>2021-01-01</td><td>Brian Howard</td><td>brian23@adventure-works.com</td><td>Road-250 Red, 44</td><td>1</td><td>2443.35</td><td>195.468</td></tr><tr><td>SO49173</td><td>1</td><td>2021-01-01</td><td>Linda Alvarez</td><td>linda19@adventure-works.com</td><td>Mountain-200 Silver, 38</td><td>1</td><td>2071.4196</td><td>165.7136</td></tr><tr><td>SO49174</td><td>1</td><td>2021-01-01</td><td>Gina Hernandez</td><td>gina4@adventure-works.com</td><td>Mountain-200 Silver, 42</td><td>1</td><td>2071.4196</td><td>165.7136</td></tr><tr><td>SO49178</td><td>1</td><td>2021-01-01</td><td>Beth Ruiz</td><td>beth4@adventure-works.com</td><td>Road-550-W Yellow, 44</td><td>1</td><td>1000.4375</td><td>80.035</td></tr></tbody></table></div>"
      ]
     },
     "metadata": {
      "application/vnd.databricks.v1+output": {
       "addedWidgets": {},
       "aggData": [],
       "aggError": "",
       "aggOverflow": false,
       "aggSchema": [],
       "aggSeriesLimitReached": false,
       "aggType": "",
       "arguments": {},
       "columnCustomDisplayInfos": {},
       "data": [
        [
         "SO49171",
         "1",
         "2021-01-01",
         "Mariah Foster",
         "mariah21@adventure-works.com",
         "Road-250 Black, 48",
         "1",
         "2181.5625",
         "174.525"
        ],
        [
         "SO49172",
         "1",
         "2021-01-01",
         "Brian Howard",
         "brian23@adventure-works.com",
         "Road-250 Red, 44",
         "1",
         "2443.35",
         "195.468"
        ],
        [
         "SO49173",
         "1",
         "2021-01-01",
         "Linda Alvarez",
         "linda19@adventure-works.com",
         "Mountain-200 Silver, 38",
         "1",
         "2071.4196",
         "165.7136"
        ],
        [
         "SO49174",
         "1",
         "2021-01-01",
         "Gina Hernandez",
         "gina4@adventure-works.com",
         "Mountain-200 Silver, 42",
         "1",
         "2071.4196",
         "165.7136"
        ],
        [
         "SO49178",
         "1",
         "2021-01-01",
         "Beth Ruiz",
         "beth4@adventure-works.com",
         "Road-550-W Yellow, 44",
         "1",
         "1000.4375",
         "80.035"
        ]
       ],
       "datasetInfos": [],
       "dbfsResultPath": null,
       "isJsonSchema": true,
       "metadata": {},
       "overflow": false,
       "plotOptions": {
        "customPlotOptions": {},
        "displayType": "table",
        "pivotAggregation": null,
        "pivotColumns": null,
        "xColumns": null,
        "yColumns": null
       },
       "removedWidgets": [],
       "schema": [
        {
         "metadata": "{}",
         "name": "_c0",
         "type": "\"string\""
        },
        {
         "metadata": "{}",
         "name": "_c1",
         "type": "\"string\""
        },
        {
         "metadata": "{}",
         "name": "_c2",
         "type": "\"string\""
        },
        {
         "metadata": "{}",
         "name": "_c3",
         "type": "\"string\""
        },
        {
         "metadata": "{}",
         "name": "_c4",
         "type": "\"string\""
        },
        {
         "metadata": "{}",
         "name": "_c5",
         "type": "\"string\""
        },
        {
         "metadata": "{}",
         "name": "_c6",
         "type": "\"string\""
        },
        {
         "metadata": "{}",
         "name": "_c7",
         "type": "\"string\""
        },
        {
         "metadata": "{}",
         "name": "_c8",
         "type": "\"string\""
        }
       ],
       "type": "table"
      }
     },
     "output_type": "display_data"
    }
   ],
   "source": [
    "df = spark.read.load('spark_lab/*.csv', format='csv')\n",
    "display(df.limit(5))"
   ]
  },
  {
   "cell_type": "markdown",
   "metadata": {
    "application/vnd.databricks.v1+cell": {
     "cellMetadata": {},
     "inputWidgets": {},
     "nuid": "e3958123-d2c2-4f34-acfa-c7a6dfeae039",
     "showTitle": false,
     "title": ""
    }
   },
   "source": [
    "Define schema for the dataframe"
   ]
  },
  {
   "cell_type": "code",
   "execution_count": 0,
   "metadata": {
    "application/vnd.databricks.v1+cell": {
     "cellMetadata": {
      "byteLimit": 2048000,
      "rowLimit": 10000
     },
     "inputWidgets": {},
     "nuid": "bbb74256-ef43-4294-9689-adbf6f0e9f80",
     "showTitle": false,
     "title": ""
    }
   },
   "outputs": [
    {
     "output_type": "display_data",
     "data": {
      "text/html": [
       "<style scoped>\n",
       "  .table-result-container {\n",
       "    max-height: 300px;\n",
       "    overflow: auto;\n",
       "  }\n",
       "  table, th, td {\n",
       "    border: 1px solid black;\n",
       "    border-collapse: collapse;\n",
       "  }\n",
       "  th, td {\n",
       "    padding: 5px;\n",
       "  }\n",
       "  th {\n",
       "    text-align: left;\n",
       "  }\n",
       "</style><div class='table-result-container'><table class='table-result'><thead style='background-color: white'><tr><th>SalesOrderNumber</th><th>SalesOrderLineNumber</th><th>OrderDate</th><th>CustomerName</th><th>Email</th><th>Item</th><th>Quantity</th><th>UnitPrice</th><th>Tax</th></tr></thead><tbody><tr><td>SO49171</td><td>1</td><td>2021-01-01</td><td>Mariah Foster</td><td>mariah21@adventure-works.com</td><td>Road-250 Black, 48</td><td>1</td><td>2181.5625</td><td>174.525</td></tr><tr><td>SO49172</td><td>1</td><td>2021-01-01</td><td>Brian Howard</td><td>brian23@adventure-works.com</td><td>Road-250 Red, 44</td><td>1</td><td>2443.35</td><td>195.468</td></tr><tr><td>SO49173</td><td>1</td><td>2021-01-01</td><td>Linda Alvarez</td><td>linda19@adventure-works.com</td><td>Mountain-200 Silver, 38</td><td>1</td><td>2071.4197</td><td>165.7136</td></tr><tr><td>SO49174</td><td>1</td><td>2021-01-01</td><td>Gina Hernandez</td><td>gina4@adventure-works.com</td><td>Mountain-200 Silver, 42</td><td>1</td><td>2071.4197</td><td>165.7136</td></tr><tr><td>SO49178</td><td>1</td><td>2021-01-01</td><td>Beth Ruiz</td><td>beth4@adventure-works.com</td><td>Road-550-W Yellow, 44</td><td>1</td><td>1000.4375</td><td>80.035</td></tr></tbody></table></div>"
      ]
     },
     "metadata": {
      "application/vnd.databricks.v1+output": {
       "addedWidgets": {},
       "aggData": [],
       "aggError": "",
       "aggOverflow": false,
       "aggSchema": [],
       "aggSeriesLimitReached": false,
       "aggType": "",
       "arguments": {},
       "columnCustomDisplayInfos": {},
       "data": [
        [
         "SO49171",
         1,
         "2021-01-01",
         "Mariah Foster",
         "mariah21@adventure-works.com",
         "Road-250 Black, 48",
         1,
         2181.5625,
         174.525
        ],
        [
         "SO49172",
         1,
         "2021-01-01",
         "Brian Howard",
         "brian23@adventure-works.com",
         "Road-250 Red, 44",
         1,
         2443.35,
         195.468
        ],
        [
         "SO49173",
         1,
         "2021-01-01",
         "Linda Alvarez",
         "linda19@adventure-works.com",
         "Mountain-200 Silver, 38",
         1,
         2071.4197,
         165.7136
        ],
        [
         "SO49174",
         1,
         "2021-01-01",
         "Gina Hernandez",
         "gina4@adventure-works.com",
         "Mountain-200 Silver, 42",
         1,
         2071.4197,
         165.7136
        ],
        [
         "SO49178",
         1,
         "2021-01-01",
         "Beth Ruiz",
         "beth4@adventure-works.com",
         "Road-550-W Yellow, 44",
         1,
         1000.4375,
         80.035
        ]
       ],
       "datasetInfos": [],
       "dbfsResultPath": null,
       "isJsonSchema": true,
       "metadata": {},
       "overflow": false,
       "plotOptions": {
        "customPlotOptions": {},
        "displayType": "table",
        "pivotAggregation": null,
        "pivotColumns": null,
        "xColumns": null,
        "yColumns": null
       },
       "removedWidgets": [],
       "schema": [
        {
         "metadata": "{}",
         "name": "SalesOrderNumber",
         "type": "\"string\""
        },
        {
         "metadata": "{}",
         "name": "SalesOrderLineNumber",
         "type": "\"integer\""
        },
        {
         "metadata": "{}",
         "name": "OrderDate",
         "type": "\"date\""
        },
        {
         "metadata": "{}",
         "name": "CustomerName",
         "type": "\"string\""
        },
        {
         "metadata": "{}",
         "name": "Email",
         "type": "\"string\""
        },
        {
         "metadata": "{}",
         "name": "Item",
         "type": "\"string\""
        },
        {
         "metadata": "{}",
         "name": "Quantity",
         "type": "\"integer\""
        },
        {
         "metadata": "{}",
         "name": "UnitPrice",
         "type": "\"float\""
        },
        {
         "metadata": "{}",
         "name": "Tax",
         "type": "\"float\""
        }
       ],
       "type": "table"
      }
     },
     "output_type": "display_data"
    }
   ],
   "source": [
    "from pyspark.sql.types import *\n",
    "from pyspark.sql.functions import *\n",
    "\n",
    "orderSchema = StructType([\n",
    "     StructField(\"SalesOrderNumber\", StringType()),\n",
    "     StructField(\"SalesOrderLineNumber\", IntegerType()),\n",
    "     StructField(\"OrderDate\", DateType()),\n",
    "     StructField(\"CustomerName\", StringType()),\n",
    "     StructField(\"Email\", StringType()),\n",
    "     StructField(\"Item\", StringType()),\n",
    "     StructField(\"Quantity\", IntegerType()),\n",
    "     StructField(\"UnitPrice\", FloatType()),\n",
    "     StructField(\"Tax\", FloatType())\n",
    "])\n",
    "df = spark.read.load('/spark_lab/*.csv', format='csv', schema=orderSchema)\n",
    "display(df.limit(5))"
   ]
  },
  {
   "cell_type": "code",
   "execution_count": 0,
   "metadata": {
    "application/vnd.databricks.v1+cell": {
     "cellMetadata": {
      "byteLimit": 2048000,
      "rowLimit": 10000
     },
     "inputWidgets": {},
     "nuid": "d1928fb6-880e-4378-8828-d5dbf263c68d",
     "showTitle": false,
     "title": ""
    }
   },
   "outputs": [
    {
     "output_type": "stream",
     "name": "stdout",
     "output_type": "stream",
     "text": [
      "root\n |-- SalesOrderNumber: string (nullable = true)\n |-- SalesOrderLineNumber: integer (nullable = true)\n |-- OrderDate: date (nullable = true)\n |-- CustomerName: string (nullable = true)\n |-- Email: string (nullable = true)\n |-- Item: string (nullable = true)\n |-- Quantity: integer (nullable = true)\n |-- UnitPrice: float (nullable = true)\n |-- Tax: float (nullable = true)\n\n"
     ]
    }
   ],
   "source": [
    "df.printSchema()"
   ]
  },
  {
   "cell_type": "code",
   "execution_count": 0,
   "metadata": {
    "application/vnd.databricks.v1+cell": {
     "cellMetadata": {
      "byteLimit": 2048000,
      "rowLimit": 10000
     },
     "inputWidgets": {},
     "nuid": "a3d9ec5f-aad1-4f85-ba3b-80df3c63da8e",
     "showTitle": false,
     "title": ""
    }
   },
   "outputs": [
    {
     "output_type": "stream",
     "name": "stdout",
     "output_type": "stream",
     "text": [
      "32718\n12427\n"
     ]
    },
    {
     "output_type": "display_data",
     "data": {
      "text/html": [
       "<style scoped>\n",
       "  .table-result-container {\n",
       "    max-height: 300px;\n",
       "    overflow: auto;\n",
       "  }\n",
       "  table, th, td {\n",
       "    border: 1px solid black;\n",
       "    border-collapse: collapse;\n",
       "  }\n",
       "  th, td {\n",
       "    padding: 5px;\n",
       "  }\n",
       "  th {\n",
       "    text-align: left;\n",
       "  }\n",
       "</style><div class='table-result-container'><table class='table-result'><thead style='background-color: white'><tr><th>CustomerName</th><th>Email</th></tr></thead><tbody><tr><td>Bridget Andersen</td><td>bridget15@adventure-works.com</td></tr><tr><td>Mya Butler</td><td>mya14@adventure-works.com</td></tr><tr><td>Deanna Hernandez</td><td>deanna29@adventure-works.com</td></tr><tr><td>Ricky Navarro</td><td>ricky10@adventure-works.com</td></tr><tr><td>Omar Ye</td><td>omar9@adventure-works.com</td></tr></tbody></table></div>"
      ]
     },
     "metadata": {
      "application/vnd.databricks.v1+output": {
       "addedWidgets": {},
       "aggData": [],
       "aggError": "",
       "aggOverflow": false,
       "aggSchema": [],
       "aggSeriesLimitReached": false,
       "aggType": "",
       "arguments": {},
       "columnCustomDisplayInfos": {},
       "data": [
        [
         "Bridget Andersen",
         "bridget15@adventure-works.com"
        ],
        [
         "Mya Butler",
         "mya14@adventure-works.com"
        ],
        [
         "Deanna Hernandez",
         "deanna29@adventure-works.com"
        ],
        [
         "Ricky Navarro",
         "ricky10@adventure-works.com"
        ],
        [
         "Omar Ye",
         "omar9@adventure-works.com"
        ]
       ],
       "datasetInfos": [],
       "dbfsResultPath": null,
       "isJsonSchema": true,
       "metadata": {},
       "overflow": false,
       "plotOptions": {
        "customPlotOptions": {},
        "displayType": "table",
        "pivotAggregation": null,
        "pivotColumns": null,
        "xColumns": null,
        "yColumns": null
       },
       "removedWidgets": [],
       "schema": [
        {
         "metadata": "{}",
         "name": "CustomerName",
         "type": "\"string\""
        },
        {
         "metadata": "{}",
         "name": "Email",
         "type": "\"string\""
        }
       ],
       "type": "table"
      }
     },
     "output_type": "display_data"
    }
   ],
   "source": [
    "customers = df['CustomerName', 'Email']\n",
    "print(customers.count())\n",
    "print(customers.distinct().count())\n",
    "display(customers.distinct().head(5))"
   ]
  },
  {
   "cell_type": "markdown",
   "metadata": {
    "application/vnd.databricks.v1+cell": {
     "cellMetadata": {},
     "inputWidgets": {},
     "nuid": "33ea9089-96d9-417e-a090-13d60ce81113",
     "showTitle": false,
     "title": ""
    }
   },
   "source": [
    "apply a filter to include only the customers who have placed an order for a specific product"
   ]
  },
  {
   "cell_type": "code",
   "execution_count": 0,
   "metadata": {
    "application/vnd.databricks.v1+cell": {
     "cellMetadata": {
      "byteLimit": 2048000,
      "rowLimit": 10000
     },
     "inputWidgets": {},
     "nuid": "d6c9af19-0ce1-4043-a7cd-8d6cd9b16cce",
     "showTitle": false,
     "title": ""
    }
   },
   "outputs": [
    {
     "output_type": "stream",
     "name": "stdout",
     "output_type": "stream",
     "text": [
      "133\n133\n"
     ]
    }
   ],
   "source": [
    "customers = df.select(\"CustomerName\", \"Email\").where(df['Item']=='Road-250 Red, 52')\n",
    "print(customers.count())\n",
    "print(customers.distinct().count())"
   ]
  },
  {
   "cell_type": "markdown",
   "metadata": {
    "application/vnd.databricks.v1+cell": {
     "cellMetadata": {},
     "inputWidgets": {},
     "nuid": "2c0fc9dd-5743-4739-9478-7d297dbafd69",
     "showTitle": false,
     "title": ""
    }
   },
   "source": [
    "### Aggregate and group data in a dataframe"
   ]
  },
  {
   "cell_type": "code",
   "execution_count": 0,
   "metadata": {
    "application/vnd.databricks.v1+cell": {
     "cellMetadata": {
      "byteLimit": 2048000,
      "rowLimit": 10000
     },
     "inputWidgets": {},
     "nuid": "bb5b1919-385e-4404-a00c-43500ceffe6a",
     "showTitle": false,
     "title": ""
    }
   },
   "outputs": [
    {
     "output_type": "display_data",
     "data": {
      "text/html": [
       "<style scoped>\n",
       "  .table-result-container {\n",
       "    max-height: 300px;\n",
       "    overflow: auto;\n",
       "  }\n",
       "  table, th, td {\n",
       "    border: 1px solid black;\n",
       "    border-collapse: collapse;\n",
       "  }\n",
       "  th, td {\n",
       "    padding: 5px;\n",
       "  }\n",
       "  th {\n",
       "    text-align: left;\n",
       "  }\n",
       "</style><div class='table-result-container'><table class='table-result'><thead style='background-color: white'><tr><th>Item</th><th>sum(Quantity)</th></tr></thead><tbody><tr><td>Mountain-200 Black, 42</td><td>388</td></tr><tr><td>Touring-1000 Yellow, 46</td><td>74</td></tr><tr><td>Touring-1000 Blue, 54</td><td>67</td></tr><tr><td>Short-Sleeve Classic Jersey, S</td><td>216</td></tr></tbody></table></div>"
      ]
     },
     "metadata": {
      "application/vnd.databricks.v1+output": {
       "addedWidgets": {},
       "aggData": [],
       "aggError": "",
       "aggOverflow": false,
       "aggSchema": [],
       "aggSeriesLimitReached": false,
       "aggType": "",
       "arguments": {},
       "columnCustomDisplayInfos": {},
       "data": [
        [
         "Mountain-200 Black, 42",
         388
        ],
        [
         "Touring-1000 Yellow, 46",
         74
        ],
        [
         "Touring-1000 Blue, 54",
         67
        ],
        [
         "Short-Sleeve Classic Jersey, S",
         216
        ]
       ],
       "datasetInfos": [],
       "dbfsResultPath": null,
       "isJsonSchema": true,
       "metadata": {},
       "overflow": false,
       "plotOptions": {
        "customPlotOptions": {},
        "displayType": "table",
        "pivotAggregation": null,
        "pivotColumns": null,
        "xColumns": null,
        "yColumns": null
       },
       "removedWidgets": [],
       "schema": [
        {
         "metadata": "{}",
         "name": "Item",
         "type": "\"string\""
        },
        {
         "metadata": "{}",
         "name": "sum(Quantity)",
         "type": "\"long\""
        }
       ],
       "type": "table"
      }
     },
     "output_type": "display_data"
    }
   ],
   "source": [
    "productSales = df.select(\"Item\", \"Quantity\").groupBy(\"Item\").sum()\n",
    "display(productSales.head(4))"
   ]
  },
  {
   "cell_type": "code",
   "execution_count": 0,
   "metadata": {
    "application/vnd.databricks.v1+cell": {
     "cellMetadata": {
      "byteLimit": 2048000,
      "rowLimit": 10000
     },
     "inputWidgets": {},
     "nuid": "ce105629-f275-4897-bef0-61d8dd1b63d0",
     "showTitle": false,
     "title": ""
    }
   },
   "outputs": [
    {
     "output_type": "display_data",
     "data": {
      "text/html": [
       "<style scoped>\n",
       "  .table-result-container {\n",
       "    max-height: 300px;\n",
       "    overflow: auto;\n",
       "  }\n",
       "  table, th, td {\n",
       "    border: 1px solid black;\n",
       "    border-collapse: collapse;\n",
       "  }\n",
       "  th, td {\n",
       "    padding: 5px;\n",
       "  }\n",
       "  th {\n",
       "    text-align: left;\n",
       "  }\n",
       "</style><div class='table-result-container'><table class='table-result'><thead style='background-color: white'><tr><th>Year</th><th>count</th></tr></thead><tbody><tr><td>2019</td><td>1201</td></tr><tr><td>2020</td><td>2733</td></tr><tr><td>2021</td><td>28784</td></tr></tbody></table></div>"
      ]
     },
     "metadata": {
      "application/vnd.databricks.v1+output": {
       "addedWidgets": {},
       "aggData": [],
       "aggError": "",
       "aggOverflow": false,
       "aggSchema": [],
       "aggSeriesLimitReached": false,
       "aggType": "",
       "arguments": {},
       "columnCustomDisplayInfos": {},
       "data": [
        [
         2019,
         1201
        ],
        [
         2020,
         2733
        ],
        [
         2021,
         28784
        ]
       ],
       "datasetInfos": [],
       "dbfsResultPath": null,
       "isJsonSchema": true,
       "metadata": {},
       "overflow": false,
       "plotOptions": {
        "customPlotOptions": {},
        "displayType": "table",
        "pivotAggregation": null,
        "pivotColumns": null,
        "xColumns": null,
        "yColumns": null
       },
       "removedWidgets": [],
       "schema": [
        {
         "metadata": "{}",
         "name": "Year",
         "type": "\"long\""
        },
        {
         "metadata": "{}",
         "name": "count",
         "type": "\"long\""
        }
       ],
       "type": "table"
      }
     },
     "output_type": "display_data"
    }
   ],
   "source": [
    "yearlySales = df.select(year(\"OrderDate\").alias(\"Year\")).groupBy(\"Year\").count().orderBy(\"Year\")\n",
    "display(yearlySales.head(5))"
   ]
  },
  {
   "cell_type": "markdown",
   "metadata": {
    "application/vnd.databricks.v1+cell": {
     "cellMetadata": {},
     "inputWidgets": {},
     "nuid": "09ec45ec-095f-4a15-9124-252b46829bcf",
     "showTitle": false,
     "title": ""
    }
   },
   "source": [
    "This time the results show the number of sales orders per year. Note that the select method includes a SQL year function to extract the year component of the OrderDate field, and then an alias method is used to assign a columm name to the extracted year value. The data is then grouped by the derived Year column and the count of rows in each group is calculated before finally the orderBy method is used to sort the resulting dataframe."
   ]
  },
  {
   "cell_type": "markdown",
   "metadata": {
    "application/vnd.databricks.v1+cell": {
     "cellMetadata": {},
     "inputWidgets": {},
     "nuid": "7fe0bcae-e212-4834-8f2b-1eb49d037bd2",
     "showTitle": false,
     "title": ""
    }
   },
   "source": [
    "### Query data using Spark SQL"
   ]
  },
  {
   "cell_type": "code",
   "execution_count": 0,
   "metadata": {
    "application/vnd.databricks.v1+cell": {
     "cellMetadata": {
      "byteLimit": 2048000,
      "rowLimit": 10000
     },
     "inputWidgets": {},
     "nuid": "da485dc1-c460-4eb0-8d38-a62f7dfb127b",
     "showTitle": false,
     "title": ""
    }
   },
   "outputs": [
    {
     "output_type": "display_data",
     "data": {
      "text/html": [
       "<style scoped>\n",
       "  .table-result-container {\n",
       "    max-height: 300px;\n",
       "    overflow: auto;\n",
       "  }\n",
       "  table, th, td {\n",
       "    border: 1px solid black;\n",
       "    border-collapse: collapse;\n",
       "  }\n",
       "  th, td {\n",
       "    padding: 5px;\n",
       "  }\n",
       "  th {\n",
       "    text-align: left;\n",
       "  }\n",
       "</style><div class='table-result-container'><table class='table-result'><thead style='background-color: white'><tr><th>SalesOrderNumber</th><th>SalesOrderLineNumber</th><th>OrderDate</th><th>CustomerName</th><th>Email</th><th>Item</th><th>Quantity</th><th>UnitPrice</th><th>Tax</th></tr></thead><tbody><tr><td>SO49171</td><td>1</td><td>2021-01-01</td><td>Mariah Foster</td><td>mariah21@adventure-works.com</td><td>Road-250 Black, 48</td><td>1</td><td>2181.5625</td><td>174.52499389648438</td></tr><tr><td>SO49172</td><td>1</td><td>2021-01-01</td><td>Brian Howard</td><td>brian23@adventure-works.com</td><td>Road-250 Red, 44</td><td>1</td><td>2443.35009765625</td><td>195.46800231933594</td></tr><tr><td>SO49173</td><td>1</td><td>2021-01-01</td><td>Linda Alvarez</td><td>linda19@adventure-works.com</td><td>Mountain-200 Silver, 38</td><td>1</td><td>2071.419677734375</td><td>165.71359252929688</td></tr><tr><td>SO49174</td><td>1</td><td>2021-01-01</td><td>Gina Hernandez</td><td>gina4@adventure-works.com</td><td>Mountain-200 Silver, 42</td><td>1</td><td>2071.419677734375</td><td>165.71359252929688</td></tr><tr><td>SO49178</td><td>1</td><td>2021-01-01</td><td>Beth Ruiz</td><td>beth4@adventure-works.com</td><td>Road-550-W Yellow, 44</td><td>1</td><td>1000.4375</td><td>80.03500366210938</td></tr></tbody></table></div>"
      ]
     },
     "metadata": {
      "application/vnd.databricks.v1+output": {
       "addedWidgets": {},
       "aggData": [],
       "aggError": "",
       "aggOverflow": false,
       "aggSchema": [],
       "aggSeriesLimitReached": false,
       "aggType": "",
       "arguments": {},
       "columnCustomDisplayInfos": {},
       "data": [
        [
         "SO49171",
         1,
         "2021-01-01",
         "Mariah Foster",
         "mariah21@adventure-works.com",
         "Road-250 Black, 48",
         1,
         2181.5625,
         174.52499389648438
        ],
        [
         "SO49172",
         1,
         "2021-01-01",
         "Brian Howard",
         "brian23@adventure-works.com",
         "Road-250 Red, 44",
         1,
         2443.35009765625,
         195.46800231933594
        ],
        [
         "SO49173",
         1,
         "2021-01-01",
         "Linda Alvarez",
         "linda19@adventure-works.com",
         "Mountain-200 Silver, 38",
         1,
         2071.419677734375,
         165.71359252929688
        ],
        [
         "SO49174",
         1,
         "2021-01-01",
         "Gina Hernandez",
         "gina4@adventure-works.com",
         "Mountain-200 Silver, 42",
         1,
         2071.419677734375,
         165.71359252929688
        ],
        [
         "SO49178",
         1,
         "2021-01-01",
         "Beth Ruiz",
         "beth4@adventure-works.com",
         "Road-550-W Yellow, 44",
         1,
         1000.4375,
         80.03500366210938
        ]
       ],
       "datasetInfos": [],
       "dbfsResultPath": null,
       "isJsonSchema": true,
       "metadata": {},
       "overflow": false,
       "plotOptions": {
        "customPlotOptions": {},
        "displayType": "table",
        "pivotAggregation": null,
        "pivotColumns": null,
        "xColumns": null,
        "yColumns": null
       },
       "removedWidgets": [],
       "schema": [
        {
         "metadata": "{}",
         "name": "SalesOrderNumber",
         "type": "\"string\""
        },
        {
         "metadata": "{}",
         "name": "SalesOrderLineNumber",
         "type": "\"long\""
        },
        {
         "metadata": "{}",
         "name": "OrderDate",
         "type": "\"date\""
        },
        {
         "metadata": "{}",
         "name": "CustomerName",
         "type": "\"string\""
        },
        {
         "metadata": "{}",
         "name": "Email",
         "type": "\"string\""
        },
        {
         "metadata": "{}",
         "name": "Item",
         "type": "\"string\""
        },
        {
         "metadata": "{}",
         "name": "Quantity",
         "type": "\"long\""
        },
        {
         "metadata": "{}",
         "name": "UnitPrice",
         "type": "\"double\""
        },
        {
         "metadata": "{}",
         "name": "Tax",
         "type": "\"double\""
        }
       ],
       "type": "table"
      }
     },
     "output_type": "display_data"
    }
   ],
   "source": [
    "df.createOrReplaceTempView(\"salesorders\")\n",
    "spark_df = spark.sql(\"SELECT * FROM salesorders\")\n",
    "display(spark_df.head(5))"
   ]
  },
  {
   "cell_type": "markdown",
   "metadata": {
    "application/vnd.databricks.v1+cell": {
     "cellMetadata": {},
     "inputWidgets": {},
     "nuid": "62cc5672-313e-4a98-8a56-48761028542f",
     "showTitle": false,
     "title": ""
    }
   },
   "source": [
    "While it’s useful to be able to embed SQL statements into a cell containing PySpark code, data analysts often just want to work directly in SQL. Add a new code cell and use it to run the following code."
   ]
  },
  {
   "cell_type": "code",
   "execution_count": 0,
   "metadata": {
    "application/vnd.databricks.v1+cell": {
     "cellMetadata": {
      "byteLimit": 2048000,
      "implicitDf": true,
      "rowLimit": 10000
     },
     "inputWidgets": {},
     "nuid": "248de2d2-b769-41b8-9a9c-ceb21d64bd43",
     "showTitle": false,
     "title": ""
    }
   },
   "outputs": [
    {
     "output_type": "display_data",
     "data": {
      "text/html": [
       "<style scoped>\n",
       "  .table-result-container {\n",
       "    max-height: 300px;\n",
       "    overflow: auto;\n",
       "  }\n",
       "  table, th, td {\n",
       "    border: 1px solid black;\n",
       "    border-collapse: collapse;\n",
       "  }\n",
       "  th, td {\n",
       "    padding: 5px;\n",
       "  }\n",
       "  th {\n",
       "    text-align: left;\n",
       "  }\n",
       "</style><div class='table-result-container'><table class='table-result'><thead style='background-color: white'><tr><th>OrderYear</th><th>GrossRevenue</th></tr></thead><tbody><tr><td>2019</td><td>4172169.969970703</td></tr><tr><td>2020</td><td>6882259.268127441</td></tr><tr><td>2021</td><td>1.1547835291696548E7</td></tr></tbody></table></div>"
      ]
     },
     "metadata": {
      "application/vnd.databricks.v1+output": {
       "addedWidgets": {},
       "aggData": [],
       "aggError": "",
       "aggOverflow": false,
       "aggSchema": [],
       "aggSeriesLimitReached": false,
       "aggType": "",
       "arguments": {},
       "columnCustomDisplayInfos": {},
       "data": [
        [
         2019,
         4172169.969970703
        ],
        [
         2020,
         6882259.268127441
        ],
        [
         2021,
         1.1547835291696548E7
        ]
       ],
       "datasetInfos": [],
       "dbfsResultPath": null,
       "isJsonSchema": true,
       "metadata": {
        "dataframeName": "_sqldf",
        "executionCount": 19
       },
       "overflow": false,
       "plotOptions": {
        "customPlotOptions": {},
        "displayType": "table",
        "pivotAggregation": null,
        "pivotColumns": null,
        "xColumns": null,
        "yColumns": null
       },
       "removedWidgets": [],
       "schema": [
        {
         "metadata": "{}",
         "name": "OrderYear",
         "type": "\"integer\""
        },
        {
         "metadata": "{}",
         "name": "GrossRevenue",
         "type": "\"double\""
        }
       ],
       "type": "table"
      }
     },
     "output_type": "display_data"
    }
   ],
   "source": [
    "%sql\n",
    "\n",
    "SELECT YEAR(OrderDate) AS OrderYear,\n",
    "       SUM((UnitPrice * Quantity) + Tax) AS GrossRevenue\n",
    "FROM salesorders\n",
    "GROUP BY YEAR(OrderDate)\n",
    "ORDER BY OrderYear;"
   ]
  },
  {
   "cell_type": "markdown",
   "metadata": {
    "application/vnd.databricks.v1+cell": {
     "cellMetadata": {},
     "inputWidgets": {},
     "nuid": "a7eeeb45-d355-4304-b3ac-e56163e4ca63",
     "showTitle": false,
     "title": ""
    }
   },
   "source": [
    "### Visualize data with Spark"
   ]
  },
  {
   "cell_type": "code",
   "execution_count": 0,
   "metadata": {
    "application/vnd.databricks.v1+cell": {
     "cellMetadata": {
      "byteLimit": 2048000,
      "implicitDf": true,
      "rowLimit": 10000
     },
     "inputWidgets": {},
     "nuid": "313d5511-fbee-4a42-a2e5-531377e20444",
     "showTitle": false,
     "title": ""
    }
   },
   "outputs": [
    {
     "output_type": "stream",
     "name": "stdout",
     "output_type": "stream",
     "text": [
      "+---------+--------------------+\n|OrderYear|        GrossRevenue|\n+---------+--------------------+\n|     2019|   4172169.969970703|\n|     2020|   6882259.268127441|\n|     2021|1.1547835291696548E7|\n+---------+--------------------+\n\n"
     ]
    }
   ],
   "source": [
    "sqlQuery = \"SELECT CAST(YEAR(OrderDate) AS CHAR(4)) AS OrderYear, \\\n",
    "                SUM((UnitPrice * Quantity) + Tax) AS GrossRevenue \\\n",
    "         FROM salesorders \\\n",
    "         GROUP BY CAST(YEAR(OrderDate) AS CHAR(4)) \\\n",
    "         ORDER BY OrderYear\"\n",
    "df_spark = spark.sql(sqlQuery)\n",
    "df_spark.show()"
   ]
  },
  {
   "cell_type": "code",
   "execution_count": 0,
   "metadata": {
    "application/vnd.databricks.v1+cell": {
     "cellMetadata": {
      "byteLimit": 2048000,
      "rowLimit": 10000
     },
     "inputWidgets": {},
     "nuid": "5001fe84-99ce-434c-af14-68e46b7ff192",
     "showTitle": false,
     "title": ""
    }
   },
   "outputs": [
    {
     "output_type": "display_data",
     "data": {
      "image/png": "[encoded data removed]",
      "text/plain": [
       "<Figure size 640x480 with 1 Axes>"
      ]
     },
     "metadata": {},
     "output_type": "display_data"
    }
   ],
   "source": [
    "from matplotlib import pyplot as plt\n",
    "    \n",
    "# matplotlib requires a Pandas dataframe, not a Spark one\n",
    "df_sales = df_spark.toPandas()\n",
    "# Create a bar plot of revenue by year\n",
    "plt.bar(x=df_sales['OrderYear'], height=df_sales['GrossRevenue'])\n",
    "# Display the plot\n",
    "plt.show()"
   ]
  },
  {
   "cell_type": "code",
   "execution_count": 0,
   "metadata": {
    "application/vnd.databricks.v1+cell": {
     "cellMetadata": {
      "byteLimit": 2048000,
      "rowLimit": 10000
     },
     "inputWidgets": {},
     "nuid": "49302792-f4ea-4cef-bd47-12def5cc01a8",
     "showTitle": false,
     "title": ""
    }
   },
   "outputs": [
    {
     "output_type": "display_data",
     "data": {
      "image/png": "[encoded data removed]",
      "text/plain": [
       "<Figure size 640x480 with 1 Axes>"
      ]
     },
     "metadata": {},
     "output_type": "display_data"
    }
   ],
   "source": [
    "# Clear the plot area\n",
    "plt.clf()\n",
    "# Create a bar plot of revenue by year\n",
    "plt.bar(x=df_sales['OrderYear'], height=df_sales['GrossRevenue'], color='orange')\n",
    "# Customize the chart\n",
    "plt.title('Revenue by Year')\n",
    "plt.xlabel('Year')\n",
    "plt.ylabel('Revenue')\n",
    "plt.grid(color='#95a5a6', linestyle='--', linewidth=2, axis='y', alpha=0.7)\n",
    "plt.xticks(rotation=45)\n",
    "# Show the figure\n",
    "plt.show()"
   ]
  },
  {
   "cell_type": "markdown",
   "metadata": {
    "application/vnd.databricks.v1+cell": {
     "cellMetadata": {},
     "inputWidgets": {},
     "nuid": "cc04e514-428d-4e0e-8953-d94fc21ba4a9",
     "showTitle": false,
     "title": ""
    }
   },
   "source": [
    "A plot is technically contained with a Figure. In the previous examples, the figure was created implicitly for you; but you can create it explicitly."
   ]
  },
  {
   "cell_type": "code",
   "execution_count": 0,
   "metadata": {
    "application/vnd.databricks.v1+cell": {
     "cellMetadata": {
      "byteLimit": 2048000,
      "rowLimit": 10000
     },
     "inputWidgets": {},
     "nuid": "fb9752f0-ee5a-4329-9e2a-ec1cd2e8feff",
     "showTitle": false,
     "title": ""
    }
   },
   "outputs": [
    {
     "output_type": "display_data",
     "data": {
      "text/plain": [
       "<Figure size 640x480 with 0 Axes>"
      ]
     },
     "metadata": {},
     "output_type": "display_data"
    },
    {
     "output_type": "display_data",
     "data": {
      "image/png": "[encoded data removed]",
      "text/plain": [
       "<Figure size 800x300 with 1 Axes>"
      ]
     },
     "metadata": {},
     "output_type": "display_data"
    }
   ],
   "source": [
    "# Clear the plot area\n",
    "plt.clf()\n",
    "# Create a Figure\n",
    "fig = plt.figure(figsize=(8,3))\n",
    "# Create a bar plot of revenue by year\n",
    "plt.bar(x=df_sales['OrderYear'], height=df_sales['GrossRevenue'], color='orange')\n",
    "# Customize the chart\n",
    "plt.title('Revenue by Year')\n",
    "plt.xlabel('Year')\n",
    "plt.ylabel('Revenue')\n",
    "plt.grid(color='#95a5a6', linestyle='--', linewidth=2, axis='y', alpha=0.7)\n",
    "plt.xticks(rotation=45)\n",
    "# Show the figure\n",
    "plt.show()"
   ]
  },
  {
   "cell_type": "code",
   "execution_count": 0,
   "metadata": {
    "application/vnd.databricks.v1+cell": {
     "cellMetadata": {
      "byteLimit": 2048000,
      "rowLimit": 10000
     },
     "inputWidgets": {},
     "nuid": "e8515e3b-4110-4fd4-b2c0-2c4a72362586",
     "showTitle": false,
     "title": ""
    }
   },
   "outputs": [
    {
     "output_type": "display_data",
     "data": {
      "text/plain": [
       "<Figure size 640x480 with 0 Axes>"
      ]
     },
     "metadata": {},
     "output_type": "display_data"
    },
    {
     "output_type": "display_data",
     "data": {
      "image/png": "[encoded data removed]",
      "text/plain": [
       "<Figure size 1000x400 with 2 Axes>"
      ]
     },
     "metadata": {},
     "output_type": "display_data"
    }
   ],
   "source": [
    "# Clear the plot area\n",
    "plt.clf()\n",
    "# Create a figure for 2 subplots (1 row, 2 columns)\n",
    "fig, ax = plt.subplots(1, 2, figsize = (10,4))\n",
    "# Create a bar plot of revenue by year on the first axis\n",
    "ax[0].bar(x=df_sales['OrderYear'], height=df_sales['GrossRevenue'], color='orange')\n",
    "ax[0].set_title('Revenue by Year')\n",
    "\n",
    "# Create a pie chart of yearly order counts on the second axis\n",
    "yearly_counts = df_sales['OrderYear'].value_counts()\n",
    "ax[1].pie(yearly_counts)\n",
    "ax[1].set_title('Orders per Year')\n",
    "ax[1].legend(yearly_counts.keys().tolist())\n",
    "# Add a title to the Figure\n",
    "fig.suptitle('Sales Data')\n",
    "# Show the figure\n",
    "plt.show()"
   ]
  },
  {
   "cell_type": "code",
   "execution_count": 0,
   "metadata": {
    "application/vnd.databricks.v1+cell": {
     "cellMetadata": {
      "byteLimit": 2048000,
      "rowLimit": 10000
     },
     "inputWidgets": {},
     "nuid": "03617b77-cabc-4a80-8fdc-a216be9d297d",
     "showTitle": false,
     "title": ""
    }
   },
   "outputs": [
    {
     "output_type": "display_data",
     "data": {
      "image/png": "[encoded data removed]",
      "text/plain": [
       "<Figure size 640x480 with 1 Axes>"
      ]
     },
     "metadata": {},
     "output_type": "display_data"
    }
   ],
   "source": [
    "import seaborn as sns\n",
    "   \n",
    "# Clear the plot area\n",
    "plt.clf()\n",
    "# Create a bar chart\n",
    "ax = sns.barplot(x=\"OrderYear\", y=\"GrossRevenue\", data=df_sales)\n",
    "plt.show()"
   ]
  },
  {
   "cell_type": "code",
   "execution_count": 0,
   "metadata": {
    "application/vnd.databricks.v1+cell": {
     "cellMetadata": {
      "byteLimit": 2048000,
      "rowLimit": 10000
     },
     "inputWidgets": {},
     "nuid": "264aab08-f5e4-48a8-8573-6e73ce92ad5b",
     "showTitle": false,
     "title": ""
    }
   },
   "outputs": [
    {
     "output_type": "display_data",
     "data": {
      "image/png": "[encoded data removed]",
      "text/plain": [
       "<Figure size 640x480 with 1 Axes>"
      ]
     },
     "metadata": {},
     "output_type": "display_data"
    }
   ],
   "source": [
    "# Clear the plot area\n",
    "plt.clf()\n",
    "   \n",
    "# Set the visual theme for seaborn\n",
    "sns.set_theme(style=\"whitegrid\")\n",
    "   \n",
    "# Create a bar chart\n",
    "ax = sns.barplot(x=\"OrderYear\", y=\"GrossRevenue\", data=df_sales)\n",
    "plt.show()"
   ]
  },
  {
   "cell_type": "code",
   "execution_count": 0,
   "metadata": {
    "application/vnd.databricks.v1+cell": {
     "cellMetadata": {
      "byteLimit": 2048000,
      "rowLimit": 10000
     },
     "inputWidgets": {},
     "nuid": "2bab5bae-a06c-4cf9-8f82-9417d1b8130e",
     "showTitle": false,
     "title": ""
    }
   },
   "outputs": [
    {
     "output_type": "display_data",
     "data": {
      "image/png": "[encoded data removed]",
      "text/plain": [
       "<Figure size 640x480 with 1 Axes>"
      ]
     },
     "metadata": {},
     "output_type": "display_data"
    }
   ],
   "source": [
    "# Clear the plot area\n",
    "plt.clf()\n",
    "   \n",
    "# Create a bar chart\n",
    "ax = sns.lineplot(x=\"OrderYear\", y=\"GrossRevenue\", data=df_sales)\n",
    "plt.show()"
   ]
  },
  {
   "cell_type": "code",
   "execution_count": 0,
   "metadata": {
    "application/vnd.databricks.v1+cell": {
     "cellMetadata": {},
     "inputWidgets": {},
     "nuid": "b9cc91e0-8690-4de4-97ad-81cc5c8375f9",
     "showTitle": false,
     "title": ""
    }
   },
   "outputs": [],
   "source": []
  }
 ],
 "metadata": {
  "application/vnd.databricks.v1+notebook": {
   "dashboards": [],
   "language": "python",
   "notebookMetadata": {
    "mostRecentlyExecutedCommandWithImplicitDF": {
     "commandId": 1277562341503178,
     "dataframes": [
      "_sqldf"
     ]
    },
    "pythonIndentUnit": 4
   },
   "notebookName": "Exercise - Use Spark in Azure Databricks Notebook 2024-03-12 16:31:58",
   "widgets": {}
  }
 },
 "nbformat": 4,
 "nbformat_minor": 0
}
