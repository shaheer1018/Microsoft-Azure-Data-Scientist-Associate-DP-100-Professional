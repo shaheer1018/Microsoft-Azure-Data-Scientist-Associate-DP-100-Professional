{
 "cells": [
  {
   "cell_type": "code",
   "execution_count": 0,
   "metadata": {
    "application/vnd.databricks.v1+cell": {
     "cellMetadata": {
      "byteLimit": 2048000,
      "rowLimit": 10000
     },
     "inputWidgets": {},
     "nuid": "895e5a3c-ce63-49fc-ad88-38afd3444cb0",
     "showTitle": false,
     "title": ""
    }
   },
   "outputs": [
    {
     "output_type": "stream",
     "name": "stderr",
     "output_type": "stream",
     "text": [
      "rm: cannot remove '/dbfs/ml_lab': No such file or directory\n--2024-03-13 06:40:07--  https://raw.githubusercontent.com/MicrosoftLearning/mslearn-databricks/main/data/penguins.csv\nResolving raw.githubusercontent.com (raw.githubusercontent.com)... 185.199.108.133, 185.199.109.133, 185.199.110.133, ...\nConnecting to raw.githubusercontent.com (raw.githubusercontent.com)|185.199.108.133|:443... connected.\nHTTP request sent, awaiting response... 200 OK\nLength: 9533 (9.3K) [text/plain]\nSaving to: ‘/dbfs/ml_lab/penguins.csv’\n\n     0K .........                                             100%  589K=0.02s\n\n2024-03-13 06:40:08 (589 KB/s) - ‘/dbfs/ml_lab/penguins.csv’ saved [9533/9533]\n\n"
     ]
    }
   ],
   "source": [
    " %sh\n",
    " rm -r /dbfs/ml_lab\n",
    " mkdir /dbfs/ml_lab\n",
    " wget -O /dbfs/ml_lab/penguins.csv https://raw.githubusercontent.com/MicrosoftLearning/mslearn-databricks/main/data/penguins.csv\n"
   ]
  },
  {
   "cell_type": "code",
   "execution_count": 0,
   "metadata": {
    "application/vnd.databricks.v1+cell": {
     "cellMetadata": {
      "byteLimit": 2048000,
      "rowLimit": 10000
     },
     "inputWidgets": {},
     "nuid": "47e48032-a981-4cea-a6d0-456131a2e4d5",
     "showTitle": false,
     "title": ""
    }
   },
   "outputs": [
    {
     "output_type": "display_data",
     "data": {
      "text/html": [
       "<style scoped>\n",
       "  .table-result-container {\n",
       "    max-height: 300px;\n",
       "    overflow: auto;\n",
       "  }\n",
       "  table, th, td {\n",
       "    border: 1px solid black;\n",
       "    border-collapse: collapse;\n",
       "  }\n",
       "  th, td {\n",
       "    padding: 5px;\n",
       "  }\n",
       "  th {\n",
       "    text-align: left;\n",
       "  }\n",
       "</style><div class='table-result-container'><table class='table-result'><thead style='background-color: white'><tr><th>Island</th><th>CulmenLength</th><th>CulmenDepth</th><th>FlipperLength</th><th>BodyMass</th><th>Species</th></tr></thead><tbody><tr><td>Torgersen</td><td>39.1</td><td>18.7</td><td>181</td><td>3750</td><td>0</td></tr><tr><td>Torgersen</td><td>39.5</td><td>17.4</td><td>186</td><td>3800</td><td>0</td></tr><tr><td>Torgersen</td><td>40.3</td><td>18</td><td>195</td><td>3250</td><td>0</td></tr><tr><td>Torgersen</td><td>null</td><td>null</td><td>null</td><td>null</td><td>0</td></tr><tr><td>Torgersen</td><td>36.7</td><td>19.3</td><td>193</td><td>3450</td><td>0</td></tr></tbody></table></div>"
      ]
     },
     "metadata": {
      "application/vnd.databricks.v1+output": {
       "addedWidgets": {},
       "aggData": [],
       "aggError": "",
       "aggOverflow": false,
       "aggSchema": [],
       "aggSeriesLimitReached": false,
       "aggType": "",
       "arguments": {},
       "columnCustomDisplayInfos": {},
       "data": [
        [
         "Torgersen",
         "39.1",
         "18.7",
         "181",
         "3750",
         "0"
        ],
        [
         "Torgersen",
         "39.5",
         "17.4",
         "186",
         "3800",
         "0"
        ],
        [
         "Torgersen",
         "40.3",
         "18",
         "195",
         "3250",
         "0"
        ],
        [
         "Torgersen",
         null,
         null,
         null,
         null,
         "0"
        ],
        [
         "Torgersen",
         "36.7",
         "19.3",
         "193",
         "3450",
         "0"
        ]
       ],
       "datasetInfos": [],
       "dbfsResultPath": null,
       "isJsonSchema": true,
       "metadata": {},
       "overflow": false,
       "plotOptions": {
        "customPlotOptions": {},
        "displayType": "table",
        "pivotAggregation": null,
        "pivotColumns": null,
        "xColumns": null,
        "yColumns": null
       },
       "removedWidgets": [],
       "schema": [
        {
         "metadata": "{}",
         "name": "Island",
         "type": "\"string\""
        },
        {
         "metadata": "{}",
         "name": "CulmenLength",
         "type": "\"string\""
        },
        {
         "metadata": "{}",
         "name": "CulmenDepth",
         "type": "\"string\""
        },
        {
         "metadata": "{}",
         "name": "FlipperLength",
         "type": "\"string\""
        },
        {
         "metadata": "{}",
         "name": "BodyMass",
         "type": "\"string\""
        },
        {
         "metadata": "{}",
         "name": "Species",
         "type": "\"string\""
        }
       ],
       "type": "table"
      }
     },
     "output_type": "display_data"
    }
   ],
   "source": [
    "df = spark.read.format(\"csv\").option(\"header\", \"true\").load(\"/ml_lab/penguins.csv\")\n",
    "display(df.head(5))"
   ]
  },
  {
   "cell_type": "code",
   "execution_count": 0,
   "metadata": {
    "application/vnd.databricks.v1+cell": {
     "cellMetadata": {
      "byteLimit": 2048000,
      "rowLimit": 10000
     },
     "inputWidgets": {},
     "nuid": "71f7d308-fec4-46f9-831e-c0eec1fbad5c",
     "showTitle": false,
     "title": ""
    }
   },
   "outputs": [],
   "source": [
    "from pyspark.sql.types import *\n",
    "from pyspark.sql.functions import *\n",
    "   \n",
    "data = df.dropna().select(col(\"Island\").astype(\"string\"),\n",
    "                          col(\"CulmenLength\").astype(\"float\"),\n",
    "                          col(\"CulmenDepth\").astype(\"float\"),\n",
    "                          col(\"FlipperLength\").astype(\"float\"),\n",
    "                          col(\"BodyMass\").astype(\"float\"),\n",
    "                          col(\"Species\").astype(\"int\")\n",
    "                          )"
   ]
  },
  {
   "cell_type": "markdown",
   "metadata": {
    "application/vnd.databricks.v1+cell": {
     "cellMetadata": {},
     "inputWidgets": {},
     "nuid": "54201e3d-c8e9-44eb-bce6-b593e006157e",
     "showTitle": false,
     "title": ""
    }
   },
   "source": [
    "#### Split the data"
   ]
  },
  {
   "cell_type": "code",
   "execution_count": 0,
   "metadata": {
    "application/vnd.databricks.v1+cell": {
     "cellMetadata": {
      "byteLimit": 2048000,
      "rowLimit": 10000
     },
     "inputWidgets": {},
     "nuid": "87583e30-0763-408b-a2bc-ce9d6f2bb535",
     "showTitle": false,
     "title": ""
    }
   },
   "outputs": [
    {
     "output_type": "stream",
     "name": "stdout",
     "output_type": "stream",
     "text": [
      "Training Rows:  249 Testing Rows:  93\n"
     ]
    }
   ],
   "source": [
    "splits = data.randomSplit([0.7, 0.3])\n",
    "train = splits[0]\n",
    "test = splits[1]\n",
    "\n",
    "print(\"Training Rows: \", train.count(), \"Testing Rows: \", test.count())"
   ]
  },
  {
   "cell_type": "markdown",
   "metadata": {
    "application/vnd.databricks.v1+cell": {
     "cellMetadata": {
      "byteLimit": 2048000,
      "rowLimit": 10000
     },
     "inputWidgets": {},
     "nuid": "3b6425fa-faa8-417e-af00-6c655932c91f",
     "showTitle": false,
     "title": ""
    }
   },
   "source": [
    "#### Perform feature engineering"
   ]
  },
  {
   "cell_type": "code",
   "execution_count": 0,
   "metadata": {
    "application/vnd.databricks.v1+cell": {
     "cellMetadata": {
      "byteLimit": 2048000,
      "rowLimit": 10000
     },
     "inputWidgets": {},
     "nuid": "01ec0df1-3d00-4f33-a29c-038365dd4867",
     "showTitle": false,
     "title": ""
    }
   },
   "outputs": [
    {
     "output_type": "display_data",
     "data": {
      "text/html": [
       "<style scoped>\n",
       "  .table-result-container {\n",
       "    max-height: 300px;\n",
       "    overflow: auto;\n",
       "  }\n",
       "  table, th, td {\n",
       "    border: 1px solid black;\n",
       "    border-collapse: collapse;\n",
       "  }\n",
       "  th, td {\n",
       "    padding: 5px;\n",
       "  }\n",
       "  th {\n",
       "    text-align: left;\n",
       "  }\n",
       "</style><div class='table-result-container'><table class='table-result'><thead style='background-color: white'><tr><th>CulmenLength</th><th>CulmenDepth</th><th>FlipperLength</th><th>BodyMass</th><th>Species</th><th>IslandIdx</th></tr></thead><tbody><tr><td>34.5</td><td>18.100000381469727</td><td>187.0</td><td>2900.0</td><td>0</td><td>0.0</td></tr><tr><td>35.0</td><td>17.899999618530273</td><td>190.0</td><td>3450.0</td><td>0</td><td>0.0</td></tr><tr><td>35.0</td><td>17.899999618530273</td><td>192.0</td><td>3725.0</td><td>0</td><td>0.0</td></tr><tr><td>35.29999923706055</td><td>18.899999618530273</td><td>187.0</td><td>3800.0</td><td>0</td><td>0.0</td></tr><tr><td>35.70000076293945</td><td>16.899999618530273</td><td>185.0</td><td>3150.0</td><td>0</td><td>0.0</td></tr></tbody></table></div>"
      ]
     },
     "metadata": {
      "application/vnd.databricks.v1+output": {
       "addedWidgets": {},
       "aggData": [],
       "aggError": "",
       "aggOverflow": false,
       "aggSchema": [],
       "aggSeriesLimitReached": false,
       "aggType": "",
       "arguments": {},
       "columnCustomDisplayInfos": {},
       "data": [
        [
         34.5,
         18.100000381469727,
         187.0,
         2900.0,
         0,
         0.0
        ],
        [
         35.0,
         17.899999618530273,
         190.0,
         3450.0,
         0,
         0.0
        ],
        [
         35.0,
         17.899999618530273,
         192.0,
         3725.0,
         0,
         0.0
        ],
        [
         35.29999923706055,
         18.899999618530273,
         187.0,
         3800.0,
         0,
         0.0
        ],
        [
         35.70000076293945,
         16.899999618530273,
         185.0,
         3150.0,
         0,
         0.0
        ]
       ],
       "datasetInfos": [],
       "dbfsResultPath": null,
       "isJsonSchema": true,
       "metadata": {},
       "overflow": false,
       "plotOptions": {
        "customPlotOptions": {},
        "displayType": "table",
        "pivotAggregation": null,
        "pivotColumns": null,
        "xColumns": null,
        "yColumns": null
       },
       "removedWidgets": [],
       "schema": [
        {
         "metadata": "{}",
         "name": "CulmenLength",
         "type": "\"double\""
        },
        {
         "metadata": "{}",
         "name": "CulmenDepth",
         "type": "\"double\""
        },
        {
         "metadata": "{}",
         "name": "FlipperLength",
         "type": "\"double\""
        },
        {
         "metadata": "{}",
         "name": "BodyMass",
         "type": "\"double\""
        },
        {
         "metadata": "{}",
         "name": "Species",
         "type": "\"long\""
        },
        {
         "metadata": "{}",
         "name": "IslandIdx",
         "type": "\"double\""
        }
       ],
       "type": "table"
      }
     },
     "output_type": "display_data"
    }
   ],
   "source": [
    "# encode the Island categorical column values as numeric indexes\n",
    "from pyspark.ml.feature import StringIndexer\n",
    "\n",
    "indexer = StringIndexer(inputCol=\"Island\", outputCol=\"IslandIdx\")\n",
    "indexedData = indexer.fit(train).transform(train).drop(\"Island\")\n",
    "\n",
    "display(indexedData.head(5))"
   ]
  },
  {
   "cell_type": "code",
   "execution_count": 0,
   "metadata": {
    "application/vnd.databricks.v1+cell": {
     "cellMetadata": {
      "byteLimit": 2048000,
      "rowLimit": 10000
     },
     "inputWidgets": {},
     "nuid": "f13f0e64-9383-4cad-88aa-e782e2570cc8",
     "showTitle": false,
     "title": ""
    }
   },
   "outputs": [
    {
     "output_type": "display_data",
     "data": {
      "text/html": [
       "<style scoped>\n",
       "  .table-result-container {\n",
       "    max-height: 300px;\n",
       "    overflow: auto;\n",
       "  }\n",
       "  table, th, td {\n",
       "    border: 1px solid black;\n",
       "    border-collapse: collapse;\n",
       "  }\n",
       "  th, td {\n",
       "    padding: 5px;\n",
       "  }\n",
       "  th {\n",
       "    text-align: left;\n",
       "  }\n",
       "</style><div class='table-result-container'><table class='table-result'><thead style='background-color: white'><tr><th>numericFeatures</th><th>normalizedFeatures</th></tr></thead><tbody><tr><td>Map(vectorType -> dense, length -> 4, values -> List(34.5, 18.100000381469727, 187.0, 2900.0))</td><td>Map(vectorType -> dense, length -> 4, values -> List(0.08727278275923295, 0.6172839215462804, 0.2542372881355932, 0.05970149253731343))</td></tr><tr><td>Map(vectorType -> dense, length -> 4, values -> List(35.0, 17.899999618530273, 190.0, 3450.0))</td><td>Map(vectorType -> dense, length -> 4, values -> List(0.10545460094105114, 0.5925924704943777, 0.3050847457627119, 0.22388059701492538))</td></tr><tr><td>Map(vectorType -> dense, length -> 4, values -> List(35.0, 17.899999618530273, 192.0, 3725.0))</td><td>Map(vectorType -> dense, length -> 4, values -> List(0.10545460094105114, 0.5925924704943777, 0.3389830508474576, 0.30597014925373134))</td></tr><tr><td>Map(vectorType -> dense, length -> 4, values -> List(35.29999923706055, 18.899999618530273, 187.0, 3800.0))</td><td>Map(vectorType -> dense, length -> 4, values -> List(0.1163636641068892, 0.7160492548036338, 0.2542372881355932, 0.3283582089552239))</td></tr><tr><td>Map(vectorType -> dense, length -> 4, values -> List(35.70000076293945, 16.899999618530273, 185.0, 3150.0))</td><td>Map(vectorType -> dense, length -> 4, values -> List(0.13090917413884942, 0.4691356861851216, 0.22033898305084745, 0.13432835820895522))</td></tr></tbody></table></div>"
      ]
     },
     "metadata": {
      "application/vnd.databricks.v1+output": {
       "addedWidgets": {},
       "aggData": [],
       "aggError": "",
       "aggOverflow": false,
       "aggSchema": [],
       "aggSeriesLimitReached": false,
       "aggType": "",
       "arguments": {},
       "columnCustomDisplayInfos": {},
       "data": [
        [
         {
          "length": 4,
          "values": [
           34.5,
           18.100000381469727,
           187.0,
           2900.0
          ],
          "vectorType": "dense"
         },
         {
          "length": 4,
          "values": [
           0.08727278275923295,
           0.6172839215462804,
           0.2542372881355932,
           0.05970149253731343
          ],
          "vectorType": "dense"
         }
        ],
        [
         {
          "length": 4,
          "values": [
           35.0,
           17.899999618530273,
           190.0,
           3450.0
          ],
          "vectorType": "dense"
         },
         {
          "length": 4,
          "values": [
           0.10545460094105114,
           0.5925924704943777,
           0.3050847457627119,
           0.22388059701492538
          ],
          "vectorType": "dense"
         }
        ],
        [
         {
          "length": 4,
          "values": [
           35.0,
           17.899999618530273,
           192.0,
           3725.0
          ],
          "vectorType": "dense"
         },
         {
          "length": 4,
          "values": [
           0.10545460094105114,
           0.5925924704943777,
           0.3389830508474576,
           0.30597014925373134
          ],
          "vectorType": "dense"
         }
        ],
        [
         {
          "length": 4,
          "values": [
           35.29999923706055,
           18.899999618530273,
           187.0,
           3800.0
          ],
          "vectorType": "dense"
         },
         {
          "length": 4,
          "values": [
           0.1163636641068892,
           0.7160492548036338,
           0.2542372881355932,
           0.3283582089552239
          ],
          "vectorType": "dense"
         }
        ],
        [
         {
          "length": 4,
          "values": [
           35.70000076293945,
           16.899999618530273,
           185.0,
           3150.0
          ],
          "vectorType": "dense"
         },
         {
          "length": 4,
          "values": [
           0.13090917413884942,
           0.4691356861851216,
           0.22033898305084745,
           0.13432835820895522
          ],
          "vectorType": "dense"
         }
        ]
       ],
       "datasetInfos": [],
       "dbfsResultPath": null,
       "isJsonSchema": true,
       "metadata": {},
       "overflow": false,
       "plotOptions": {
        "customPlotOptions": {},
        "displayType": "table",
        "pivotAggregation": null,
        "pivotColumns": null,
        "xColumns": null,
        "yColumns": null
       },
       "removedWidgets": [],
       "schema": [
        {
         "metadata": "{}",
         "name": "numericFeatures",
         "type": "{\"type\":\"udt\",\"class\":\"org.apache.spark.ml.linalg.VectorUDT\",\"pyClass\":\"pyspark.ml.linalg.VectorUDT\",\"sqlType\":{\"type\":\"struct\",\"fields\":[{\"name\":\"type\",\"type\":\"byte\",\"nullable\":false,\"metadata\":{}},{\"name\":\"size\",\"type\":\"integer\",\"nullable\":true,\"metadata\":{}},{\"name\":\"indices\",\"type\":{\"type\":\"array\",\"elementType\":\"integer\",\"containsNull\":false},\"nullable\":true,\"metadata\":{}},{\"name\":\"values\",\"type\":{\"type\":\"array\",\"elementType\":\"double\",\"containsNull\":false},\"nullable\":true,\"metadata\":{}}]}}"
        },
        {
         "metadata": "{}",
         "name": "normalizedFeatures",
         "type": "{\"type\":\"udt\",\"class\":\"org.apache.spark.ml.linalg.VectorUDT\",\"pyClass\":\"pyspark.ml.linalg.VectorUDT\",\"sqlType\":{\"type\":\"struct\",\"fields\":[{\"name\":\"type\",\"type\":\"byte\",\"nullable\":false,\"metadata\":{}},{\"name\":\"size\",\"type\":\"integer\",\"nullable\":true,\"metadata\":{}},{\"name\":\"indices\",\"type\":{\"type\":\"array\",\"elementType\":\"integer\",\"containsNull\":false},\"nullable\":true,\"metadata\":{}},{\"name\":\"values\",\"type\":{\"type\":\"array\",\"elementType\":\"double\",\"containsNull\":false},\"nullable\":true,\"metadata\":{}}]}}"
        }
       ],
       "type": "table"
      }
     },
     "output_type": "display_data"
    }
   ],
   "source": [
    "# Normalize (scale) numeric features\n",
    "from pyspark.ml.feature import VectorAssembler, MinMaxScaler\n",
    "\n",
    "# Create a vector column containing all numeric features\n",
    "numericFeatures = [\"CulmenLength\", \"CulmenDepth\", \"FlipperLength\", \"BodyMass\"]\n",
    "numericColVector = VectorAssembler(inputCols=numericFeatures, outputCol=\"numericFeatures\")\n",
    "vectorizedData = numericColVector.transform(indexedData)\n",
    "\n",
    "# Use a MinMax scaler to normalize the numeric values in the vector\n",
    "minMax = MinMaxScaler(inputCol = numericColVector.getOutputCol(), outputCol=\"normalizedFeatures\")\n",
    "scaledData = minMax.fit(vectorizedData).transform(vectorizedData)\n",
    "\n",
    "# Display the data with numeric feature vectors (before and after scaling)\n",
    "compareNumerics = scaledData.select(\"numericFeatures\", \"normalizedFeatures\")\n",
    "display(compareNumerics.head(5))"
   ]
  },
  {
   "cell_type": "markdown",
   "metadata": {
    "application/vnd.databricks.v1+cell": {
     "cellMetadata": {
      "byteLimit": 2048000,
      "rowLimit": 10000
     },
     "inputWidgets": {},
     "nuid": "c7df745d-099c-417d-9465-9c0f384ddd54",
     "showTitle": false,
     "title": ""
    }
   },
   "source": [
    "#### Prepare features and labels for training"
   ]
  },
  {
   "cell_type": "code",
   "execution_count": 0,
   "metadata": {
    "application/vnd.databricks.v1+cell": {
     "cellMetadata": {
      "byteLimit": 2048000,
      "rowLimit": 10000
     },
     "inputWidgets": {},
     "nuid": "16b32cbd-7707-49c7-82f3-5f798ae3ab3f",
     "showTitle": false,
     "title": ""
    }
   },
   "outputs": [
    {
     "output_type": "display_data",
     "data": {
      "text/html": [
       "<style scoped>\n",
       "  .table-result-container {\n",
       "    max-height: 300px;\n",
       "    overflow: auto;\n",
       "  }\n",
       "  table, th, td {\n",
       "    border: 1px solid black;\n",
       "    border-collapse: collapse;\n",
       "  }\n",
       "  th, td {\n",
       "    padding: 5px;\n",
       "  }\n",
       "  th {\n",
       "    text-align: left;\n",
       "  }\n",
       "</style><div class='table-result-container'><table class='table-result'><thead style='background-color: white'><tr><th>features</th><th>label</th></tr></thead><tbody><tr><td>Map(vectorType -> dense, length -> 5, values -> List(0.0, 0.08727278275923295, 0.6172839215462804, 0.2542372881355932, 0.05970149253731343))</td><td>0</td></tr><tr><td>Map(vectorType -> dense, length -> 5, values -> List(0.0, 0.10545460094105114, 0.5925924704943777, 0.3050847457627119, 0.22388059701492538))</td><td>0</td></tr><tr><td>Map(vectorType -> dense, length -> 5, values -> List(0.0, 0.10545460094105114, 0.5925924704943777, 0.3389830508474576, 0.30597014925373134))</td><td>0</td></tr><tr><td>Map(vectorType -> dense, length -> 5, values -> List(0.0, 0.1163636641068892, 0.7160492548036338, 0.2542372881355932, 0.3283582089552239))</td><td>0</td></tr><tr><td>Map(vectorType -> dense, length -> 5, values -> List(0.0, 0.13090917413884942, 0.4691356861851216, 0.22033898305084745, 0.13432835820895522))</td><td>0</td></tr></tbody></table></div>"
      ]
     },
     "metadata": {
      "application/vnd.databricks.v1+output": {
       "addedWidgets": {},
       "aggData": [],
       "aggError": "",
       "aggOverflow": false,
       "aggSchema": [],
       "aggSeriesLimitReached": false,
       "aggType": "",
       "arguments": {},
       "columnCustomDisplayInfos": {},
       "data": [
        [
         {
          "length": 5,
          "values": [
           0.0,
           0.08727278275923295,
           0.6172839215462804,
           0.2542372881355932,
           0.05970149253731343
          ],
          "vectorType": "dense"
         },
         0
        ],
        [
         {
          "length": 5,
          "values": [
           0.0,
           0.10545460094105114,
           0.5925924704943777,
           0.3050847457627119,
           0.22388059701492538
          ],
          "vectorType": "dense"
         },
         0
        ],
        [
         {
          "length": 5,
          "values": [
           0.0,
           0.10545460094105114,
           0.5925924704943777,
           0.3389830508474576,
           0.30597014925373134
          ],
          "vectorType": "dense"
         },
         0
        ],
        [
         {
          "length": 5,
          "values": [
           0.0,
           0.1163636641068892,
           0.7160492548036338,
           0.2542372881355932,
           0.3283582089552239
          ],
          "vectorType": "dense"
         },
         0
        ],
        [
         {
          "length": 5,
          "values": [
           0.0,
           0.13090917413884942,
           0.4691356861851216,
           0.22033898305084745,
           0.13432835820895522
          ],
          "vectorType": "dense"
         },
         0
        ]
       ],
       "datasetInfos": [],
       "dbfsResultPath": null,
       "isJsonSchema": true,
       "metadata": {},
       "overflow": false,
       "plotOptions": {
        "customPlotOptions": {},
        "displayType": "table",
        "pivotAggregation": null,
        "pivotColumns": null,
        "xColumns": null,
        "yColumns": null
       },
       "removedWidgets": [],
       "schema": [
        {
         "metadata": "{}",
         "name": "features",
         "type": "{\"type\":\"udt\",\"class\":\"org.apache.spark.ml.linalg.VectorUDT\",\"pyClass\":\"pyspark.ml.linalg.VectorUDT\",\"sqlType\":{\"type\":\"struct\",\"fields\":[{\"name\":\"type\",\"type\":\"byte\",\"nullable\":false,\"metadata\":{}},{\"name\":\"size\",\"type\":\"integer\",\"nullable\":true,\"metadata\":{}},{\"name\":\"indices\",\"type\":{\"type\":\"array\",\"elementType\":\"integer\",\"containsNull\":false},\"nullable\":true,\"metadata\":{}},{\"name\":\"values\",\"type\":{\"type\":\"array\",\"elementType\":\"double\",\"containsNull\":false},\"nullable\":true,\"metadata\":{}}]}}"
        },
        {
         "metadata": "{}",
         "name": "label",
         "type": "\"long\""
        }
       ],
       "type": "table"
      }
     },
     "output_type": "display_data"
    }
   ],
   "source": [
    "featVect = VectorAssembler(inputCols=[\"IslandIdx\", \"normalizedFeatures\"], outputCol=\"featuresVector\")\n",
    "preppedData = featVect.transform(scaledData)[col(\"featuresVector\").alias(\"features\"), col(\"Species\").alias(\"label\")]\n",
    "display(preppedData.head(5))"
   ]
  },
  {
   "cell_type": "markdown",
   "metadata": {
    "application/vnd.databricks.v1+cell": {
     "cellMetadata": {},
     "inputWidgets": {},
     "nuid": "476235ab-62b4-466f-8eb7-c5cbbbcd381e",
     "showTitle": false,
     "title": ""
    }
   },
   "source": [
    "#### Train a machine learning model"
   ]
  },
  {
   "cell_type": "code",
   "execution_count": 0,
   "metadata": {
    "application/vnd.databricks.v1+cell": {
     "cellMetadata": {
      "byteLimit": 2048000,
      "rowLimit": 10000
     },
     "inputWidgets": {},
     "nuid": "69042b94-d753-49a5-93b6-69328f9f4034",
     "showTitle": false,
     "title": ""
    }
   },
   "outputs": [
    {
     "output_type": "stream",
     "name": "stdout",
     "output_type": "stream",
     "text": [
      "Model trained!\n"
     ]
    }
   ],
   "source": [
    "from pyspark.ml.classification import LogisticRegression\n",
    "\n",
    "lr = LogisticRegression(labelCol=\"label\", featuresCol=\"features\", maxIter=10, regParam=0.3)\n",
    "model = lr.fit(preppedData)\n",
    "print (\"Model trained!\")"
   ]
  },
  {
   "cell_type": "markdown",
   "metadata": {
    "application/vnd.databricks.v1+cell": {
     "cellMetadata": {},
     "inputWidgets": {},
     "nuid": "9474c77c-461b-4dd5-918d-99a1c909141f",
     "showTitle": false,
     "title": ""
    }
   },
   "source": [
    "#### Test the model"
   ]
  },
  {
   "cell_type": "code",
   "execution_count": 0,
   "metadata": {
    "application/vnd.databricks.v1+cell": {
     "cellMetadata": {
      "byteLimit": 2048000,
      "rowLimit": 10000
     },
     "inputWidgets": {},
     "nuid": "cbceb1a8-c08a-464a-81e2-845b0790430a",
     "showTitle": false,
     "title": ""
    }
   },
   "outputs": [
    {
     "output_type": "display_data",
     "data": {
      "text/html": [
       "<style scoped>\n",
       "  .table-result-container {\n",
       "    max-height: 300px;\n",
       "    overflow: auto;\n",
       "  }\n",
       "  table, th, td {\n",
       "    border: 1px solid black;\n",
       "    border-collapse: collapse;\n",
       "  }\n",
       "  th, td {\n",
       "    padding: 5px;\n",
       "  }\n",
       "  th {\n",
       "    text-align: left;\n",
       "  }\n",
       "</style><div class='table-result-container'><table class='table-result'><thead style='background-color: white'><tr><th>features</th><th>probability</th><th>prediction</th><th>trueLabel</th></tr></thead><tbody><tr><td>Map(vectorType -> dense, length -> 5, values -> List(0.0, 0.08163265306122448, 0.33750009536743164, 0.3269230769230769, 0.1323529411764706))</td><td>Map(vectorType -> dense, length -> 3, values -> List(0.7782138409331263, 0.13252960583466478, 0.08925655323220896))</td><td>0</td><td>0</td></tr><tr><td>Map(vectorType -> dense, length -> 5, values -> List(0.0, 0.17142860256895726, 0.3125, 0.09615384615384616, 0.051470588235294115))</td><td>Map(vectorType -> dense, length -> 3, values -> List(0.7874150387037901, 0.09374755472069868, 0.11883740657551121))</td><td>0</td><td>0</td></tr><tr><td>Map(vectorType -> dense, length -> 5, values -> List(0.0, 0.1755101729412468, 0.8125, 0.23076923076923078, 0.39705882352941174))</td><td>Map(vectorType -> dense, length -> 3, values -> List(0.8247181221451012, 0.06948948605407165, 0.10579239180082718))</td><td>0</td><td>0</td></tr><tr><td>Map(vectorType -> dense, length -> 5, values -> List(0.0, 0.17959189901546554, 0.6375000476837158, 0.2884615384615385, 0.007352941176470587))</td><td>Map(vectorType -> dense, length -> 3, values -> List(0.8059534061451775, 0.062279257805957305, 0.13176733604886517))</td><td>0</td><td>0</td></tr></tbody></table></div>"
      ]
     },
     "metadata": {
      "application/vnd.databricks.v1+output": {
       "addedWidgets": {},
       "aggData": [],
       "aggError": "",
       "aggOverflow": false,
       "aggSchema": [],
       "aggSeriesLimitReached": false,
       "aggType": "",
       "arguments": {},
       "columnCustomDisplayInfos": {},
       "data": [
        [
         {
          "length": 5,
          "values": [
           0.0,
           0.08163265306122448,
           0.33750009536743164,
           0.3269230769230769,
           0.1323529411764706
          ],
          "vectorType": "dense"
         },
         {
          "length": 3,
          "values": [
           0.7782138409331263,
           0.13252960583466478,
           0.08925655323220896
          ],
          "vectorType": "dense"
         },
         0,
         0
        ],
        [
         {
          "length": 5,
          "values": [
           0.0,
           0.17142860256895726,
           0.3125,
           0.09615384615384616,
           0.051470588235294115
          ],
          "vectorType": "dense"
         },
         {
          "length": 3,
          "values": [
           0.7874150387037901,
           0.09374755472069868,
           0.11883740657551121
          ],
          "vectorType": "dense"
         },
         0,
         0
        ],
        [
         {
          "length": 5,
          "values": [
           0.0,
           0.1755101729412468,
           0.8125,
           0.23076923076923078,
           0.39705882352941174
          ],
          "vectorType": "dense"
         },
         {
          "length": 3,
          "values": [
           0.8247181221451012,
           0.06948948605407165,
           0.10579239180082718
          ],
          "vectorType": "dense"
         },
         0,
         0
        ],
        [
         {
          "length": 5,
          "values": [
           0.0,
           0.17959189901546554,
           0.6375000476837158,
           0.2884615384615385,
           0.007352941176470587
          ],
          "vectorType": "dense"
         },
         {
          "length": 3,
          "values": [
           0.8059534061451775,
           0.062279257805957305,
           0.13176733604886517
          ],
          "vectorType": "dense"
         },
         0,
         0
        ]
       ],
       "datasetInfos": [],
       "dbfsResultPath": null,
       "isJsonSchema": true,
       "metadata": {},
       "overflow": false,
       "plotOptions": {
        "customPlotOptions": {},
        "displayType": "table",
        "pivotAggregation": null,
        "pivotColumns": null,
        "xColumns": null,
        "yColumns": null
       },
       "removedWidgets": [],
       "schema": [
        {
         "metadata": "{}",
         "name": "features",
         "type": "{\"type\":\"udt\",\"class\":\"org.apache.spark.ml.linalg.VectorUDT\",\"pyClass\":\"pyspark.ml.linalg.VectorUDT\",\"sqlType\":{\"type\":\"struct\",\"fields\":[{\"name\":\"type\",\"type\":\"byte\",\"nullable\":false,\"metadata\":{}},{\"name\":\"size\",\"type\":\"integer\",\"nullable\":true,\"metadata\":{}},{\"name\":\"indices\",\"type\":{\"type\":\"array\",\"elementType\":\"integer\",\"containsNull\":false},\"nullable\":true,\"metadata\":{}},{\"name\":\"values\",\"type\":{\"type\":\"array\",\"elementType\":\"double\",\"containsNull\":false},\"nullable\":true,\"metadata\":{}}]}}"
        },
        {
         "metadata": "{}",
         "name": "probability",
         "type": "{\"type\":\"udt\",\"class\":\"org.apache.spark.ml.linalg.VectorUDT\",\"pyClass\":\"pyspark.ml.linalg.VectorUDT\",\"sqlType\":{\"type\":\"struct\",\"fields\":[{\"name\":\"type\",\"type\":\"byte\",\"nullable\":false,\"metadata\":{}},{\"name\":\"size\",\"type\":\"integer\",\"nullable\":true,\"metadata\":{}},{\"name\":\"indices\",\"type\":{\"type\":\"array\",\"elementType\":\"integer\",\"containsNull\":false},\"nullable\":true,\"metadata\":{}},{\"name\":\"values\",\"type\":{\"type\":\"array\",\"elementType\":\"double\",\"containsNull\":false},\"nullable\":true,\"metadata\":{}}]}}"
        },
        {
         "metadata": "{}",
         "name": "prediction",
         "type": "\"long\""
        },
        {
         "metadata": "{}",
         "name": "trueLabel",
         "type": "\"long\""
        }
       ],
       "type": "table"
      }
     },
     "output_type": "display_data"
    }
   ],
   "source": [
    "# Prepare the test data\n",
    "indexedTestData = indexer.fit(test).transform(test).drop(\"Island\")\n",
    "vectorizedTestData = numericColVector.transform(indexedTestData)\n",
    "\n",
    "scaledTestData = minMax.fit(vectorizedTestData).transform(vectorizedTestData)\n",
    "preppedTestData = featVect.transform(scaledTestData)[col(\"featuresVector\").alias(\"features\"), col(\"Species\").alias(\"label\")]\n",
    "\n",
    "# Get predictions\n",
    "prediction = model.transform(preppedTestData)\n",
    "predicted = prediction.select(\"features\", \"probability\", col(\"prediction\").astype(\"Int\"), col(\"label\").alias(\"trueLabel\"))\n",
    "display(predicted.head(4))"
   ]
  },
  {
   "cell_type": "code",
   "execution_count": 0,
   "metadata": {
    "application/vnd.databricks.v1+cell": {
     "cellMetadata": {
      "byteLimit": 2048000,
      "rowLimit": 10000
     },
     "inputWidgets": {},
     "nuid": "b6da3ae9-9075-4e95-94dd-7782f25866d3",
     "showTitle": false,
     "title": ""
    }
   },
   "outputs": [
    {
     "output_type": "stream",
     "name": "stdout",
     "output_type": "stream",
     "text": [
      "Accuracy: 0.9139784946236559\n\nIndividual class metrics:\nClass 0\n\tPrecision: 0.8048780487804879\n\tRecall: 1.0\n\tF1 Score: 0.8918918918918919\nClass 1\n\tPrecision: 1.0\n\tRecall: 1.0\n\tF1 Score: 1.0\nClass 2\n\tPrecision: 1.0\n\tRecall: 0.68\n\tF1 Score: 0.8095238095238095\nOverall Precision: 0.930763178599528\nOverall Recall: 0.9139784946236559\nOverall F1 Score: 0.9104357814035233\n"
     ]
    }
   ],
   "source": [
    "from pyspark.ml.evaluation import MulticlassClassificationEvaluator\n",
    "   \n",
    "evaluator = MulticlassClassificationEvaluator(labelCol=\"label\", predictionCol=\"prediction\")\n",
    "   \n",
    "# Simple accuracy\n",
    "accuracy = evaluator.evaluate(prediction, {evaluator.metricName:\"accuracy\"})\n",
    "print(\"Accuracy:\", accuracy)\n",
    "   \n",
    "# Individual class metrics\n",
    "labels = [0,1,2]\n",
    "print(\"\\nIndividual class metrics:\")\n",
    "for label in sorted(labels):\n",
    "    print (\"Class %s\" % (label))\n",
    "   \n",
    "    # Precision\n",
    "    precision = evaluator.evaluate(prediction, {evaluator.metricLabel:label,\n",
    "                                                evaluator.metricName:\"precisionByLabel\"})\n",
    "    print(\"\\tPrecision:\", precision)\n",
    "   \n",
    "    # Recall\n",
    "    recall = evaluator.evaluate(prediction, {evaluator.metricLabel:label,\n",
    "                                             evaluator.metricName:\"recallByLabel\"})\n",
    "    print(\"\\tRecall:\", recall)\n",
    "   \n",
    "    # F1 score\n",
    "    f1 = evaluator.evaluate(prediction, {evaluator.metricLabel:label,\n",
    "                                         evaluator.metricName:\"fMeasureByLabel\"})\n",
    "    print(\"\\tF1 Score:\", f1)\n",
    "   \n",
    "# Weighted (overall) metrics\n",
    "overallPrecision = evaluator.evaluate(prediction, {evaluator.metricName:\"weightedPrecision\"})\n",
    "print(\"Overall Precision:\", overallPrecision)\n",
    "overallRecall = evaluator.evaluate(prediction, {evaluator.metricName:\"weightedRecall\"})\n",
    "print(\"Overall Recall:\", overallRecall)\n",
    "overallF1 = evaluator.evaluate(prediction, {evaluator.metricName:\"weightedFMeasure\"})\n",
    "print(\"Overall F1 Score:\", overallF1)"
   ]
  },
  {
   "cell_type": "markdown",
   "metadata": {
    "application/vnd.databricks.v1+cell": {
     "cellMetadata": {},
     "inputWidgets": {},
     "nuid": "3dace1f4-d433-450a-bec9-e6f53a583861",
     "showTitle": false,
     "title": ""
    }
   },
   "source": [
    "__Accuracy:__ The proportion of overall predictions that were correct.\n",
    "\n",
    "__Per-class metrics:__ \n",
    "\n",
    "                 Precision: The proportion of predictions of this class that were correct.\n",
    "\n",
    "                 Recall: The proportion of actual instances of this class that were correctly predicted.\n",
    "\n",
    "                 F1 score: A combined metric for precision and recall\n",
    "\n"
   ]
  },
  {
   "cell_type": "markdown",
   "metadata": {
    "application/vnd.databricks.v1+cell": {
     "cellMetadata": {},
     "inputWidgets": {},
     "nuid": "c86e65f6-c4f5-4267-b9af-99d8e2a8a2a9",
     "showTitle": false,
     "title": ""
    }
   },
   "source": [
    "Note: It may initially seem like the overall accuracy metric provides the best way to evaluate a model’s predictive performance. However, consider this. Suppose Gentoo penguins make up 95% of the penguin population in your study location. A model that always predicts the label 1 (the class for Gentoo) will have an accuracy of 0.95. That doesn’t mean it’s a great model for predicting a penguin species based on the features! That’s why data scientists tend to explore additional metrics to get a better understanding of how well a classification model predicts for each possible class label."
   ]
  },
  {
   "cell_type": "markdown",
   "metadata": {
    "application/vnd.databricks.v1+cell": {
     "cellMetadata": {
      "byteLimit": 2048000,
      "rowLimit": 10000
     },
     "inputWidgets": {},
     "nuid": "16fa619d-fc48-4c7f-9eec-253f11a8978e",
     "showTitle": false,
     "title": ""
    }
   },
   "source": [
    "#### Use a pipeline\n",
    "\n",
    "You trained your model by performing the required feature engineering steps and then fitting an algorithm to the data. To use the model with some test data to generate predictions (referred to as inferencing), you had to apply the same feature engineering steps to the test data. A more efficient way to build and use models is to encapsulate the transformers used to prepare the data and the model used to train it in a pipeline."
   ]
  },
  {
   "cell_type": "code",
   "execution_count": 0,
   "metadata": {
    "application/vnd.databricks.v1+cell": {
     "cellMetadata": {
      "byteLimit": 2048000,
      "rowLimit": 10000
     },
     "inputWidgets": {},
     "nuid": "8da52dc2-a576-494c-af16-51ea05b17eeb",
     "showTitle": false,
     "title": ""
    }
   },
   "outputs": [
    {
     "output_type": "stream",
     "name": "stdout",
     "output_type": "stream",
     "text": [
      "Model trained!\n"
     ]
    }
   ],
   "source": [
    "from pyspark.ml import Pipeline\n",
    "from pyspark.ml.feature import StringIndexer, VectorAssembler, MinMaxScaler\n",
    "from pyspark.ml.classification import LogisticRegression\n",
    "\n",
    "\n",
    "\n",
    "catFeature = \"Island\"\n",
    "numFeatures = [\"CulmenLength\", \"CulmenDepth\", \"FlipperLength\", \"BodyMass\"]\n",
    "\n",
    "\n",
    "# Define the feature engineering and model training algorithm steps\n",
    "catIndexer = StringIndexer(inputCol=catFeature, outputCol=catFeature + \"Idx\")\n",
    "numVector = VectorAssembler(inputCols=numFeatures, outputCol=\"numericFeatures\")\n",
    "numScaler = MinMaxScaler(inputCol = numVector.getOutputCol(), outputCol=\"normalizedFeatures\")\n",
    "featureVector = VectorAssembler(inputCols=[\"IslandIdx\", \"normalizedFeatures\"], outputCol=\"Features\")\n",
    "algo = LogisticRegression(labelCol=\"Species\", featuresCol=\"Features\", maxIter=10, regParam=0.3)\n",
    "\n",
    "\n",
    "# Chain the steps as stages in a pipeline\n",
    "pipeline = Pipeline(stages=[catIndexer, numVector, numScaler, featureVector, algo])\n",
    "\n",
    "\n",
    "# Use the pipeline to prepare data and fit the model algorithm\n",
    "model = pipeline.fit(train)\n",
    "print (\"Model trained!\")"
   ]
  },
  {
   "cell_type": "markdown",
   "metadata": {
    "application/vnd.databricks.v1+cell": {
     "cellMetadata": {},
     "inputWidgets": {},
     "nuid": "15dd6c05-4d59-49ec-9244-80e2c5f50ac9",
     "showTitle": false,
     "title": ""
    }
   },
   "source": [
    "Since the feature engineering steps are now encapsulated in the model trained by the pipeline, you can use the model with the test data without needing to apply each transformation (they’ll be applied automatically by the model)."
   ]
  },
  {
   "cell_type": "code",
   "execution_count": 0,
   "metadata": {
    "application/vnd.databricks.v1+cell": {
     "cellMetadata": {
      "byteLimit": 2048000,
      "rowLimit": 10000
     },
     "inputWidgets": {},
     "nuid": "69292215-4d5b-481b-b627-f332f9773f03",
     "showTitle": false,
     "title": ""
    }
   },
   "outputs": [
    {
     "output_type": "display_data",
     "data": {
      "text/html": [
       "<style scoped>\n",
       "  .table-result-container {\n",
       "    max-height: 300px;\n",
       "    overflow: auto;\n",
       "  }\n",
       "  table, th, td {\n",
       "    border: 1px solid black;\n",
       "    border-collapse: collapse;\n",
       "  }\n",
       "  th, td {\n",
       "    padding: 5px;\n",
       "  }\n",
       "  th {\n",
       "    text-align: left;\n",
       "  }\n",
       "</style><div class='table-result-container'><table class='table-result'><thead style='background-color: white'><tr><th>Features</th><th>probability</th><th>prediction</th><th>trueLabel</th></tr></thead><tbody><tr><td>Map(vectorType -> dense, length -> 5, values -> List(0.0, 0.12363641912286931, 0.3827160784537196, 0.3898305084745763, 0.19402985074626866))</td><td>Map(vectorType -> dense, length -> 3, values -> List(0.7323519625458714, 0.16621307955154552, 0.101434957902583))</td><td>0</td><td>0</td></tr><tr><td>Map(vectorType -> dense, length -> 5, values -> List(0.0, 0.20363644686612214, 0.3580246274018169, 0.1864406779661017, 0.11194029850746269))</td><td>Map(vectorType -> dense, length -> 3, values -> List(0.745251388628206, 0.12218528410677094, 0.1325633272650231))</td><td>0</td><td>0</td></tr><tr><td>Map(vectorType -> dense, length -> 5, values -> List(0.0, 0.2072727550159801, 0.8518517646388412, 0.3050847457627119, 0.4626865671641791))</td><td>Map(vectorType -> dense, length -> 3, values -> List(0.7914045535477935, 0.09041002424777782, 0.11818542220442854))</td><td>0</td><td>0</td></tr><tr><td>Map(vectorType -> dense, length -> 5, values -> List(0.0, 0.21090920188210227, 0.6790123137009084, 0.3559322033898305, 0.06716417910447761))</td><td>Map(vectorType -> dense, length -> 3, values -> List(0.7748486997058207, 0.07841177605748804, 0.1467395242366913))</td><td>0</td><td>0</td></tr></tbody></table></div>"
      ]
     },
     "metadata": {
      "application/vnd.databricks.v1+output": {
       "addedWidgets": {},
       "aggData": [],
       "aggError": "",
       "aggOverflow": false,
       "aggSchema": [],
       "aggSeriesLimitReached": false,
       "aggType": "",
       "arguments": {},
       "columnCustomDisplayInfos": {},
       "data": [
        [
         {
          "length": 5,
          "values": [
           0.0,
           0.12363641912286931,
           0.3827160784537196,
           0.3898305084745763,
           0.19402985074626866
          ],
          "vectorType": "dense"
         },
         {
          "length": 3,
          "values": [
           0.7323519625458714,
           0.16621307955154552,
           0.101434957902583
          ],
          "vectorType": "dense"
         },
         0,
         0
        ],
        [
         {
          "length": 5,
          "values": [
           0.0,
           0.20363644686612214,
           0.3580246274018169,
           0.1864406779661017,
           0.11194029850746269
          ],
          "vectorType": "dense"
         },
         {
          "length": 3,
          "values": [
           0.745251388628206,
           0.12218528410677094,
           0.1325633272650231
          ],
          "vectorType": "dense"
         },
         0,
         0
        ],
        [
         {
          "length": 5,
          "values": [
           0.0,
           0.2072727550159801,
           0.8518517646388412,
           0.3050847457627119,
           0.4626865671641791
          ],
          "vectorType": "dense"
         },
         {
          "length": 3,
          "values": [
           0.7914045535477935,
           0.09041002424777782,
           0.11818542220442854
          ],
          "vectorType": "dense"
         },
         0,
         0
        ],
        [
         {
          "length": 5,
          "values": [
           0.0,
           0.21090920188210227,
           0.6790123137009084,
           0.3559322033898305,
           0.06716417910447761
          ],
          "vectorType": "dense"
         },
         {
          "length": 3,
          "values": [
           0.7748486997058207,
           0.07841177605748804,
           0.1467395242366913
          ],
          "vectorType": "dense"
         },
         0,
         0
        ]
       ],
       "datasetInfos": [],
       "dbfsResultPath": null,
       "isJsonSchema": true,
       "metadata": {},
       "overflow": false,
       "plotOptions": {
        "customPlotOptions": {},
        "displayType": "table",
        "pivotAggregation": null,
        "pivotColumns": null,
        "xColumns": null,
        "yColumns": null
       },
       "removedWidgets": [],
       "schema": [
        {
         "metadata": "{}",
         "name": "Features",
         "type": "{\"type\":\"udt\",\"class\":\"org.apache.spark.ml.linalg.VectorUDT\",\"pyClass\":\"pyspark.ml.linalg.VectorUDT\",\"sqlType\":{\"type\":\"struct\",\"fields\":[{\"name\":\"type\",\"type\":\"byte\",\"nullable\":false,\"metadata\":{}},{\"name\":\"size\",\"type\":\"integer\",\"nullable\":true,\"metadata\":{}},{\"name\":\"indices\",\"type\":{\"type\":\"array\",\"elementType\":\"integer\",\"containsNull\":false},\"nullable\":true,\"metadata\":{}},{\"name\":\"values\",\"type\":{\"type\":\"array\",\"elementType\":\"double\",\"containsNull\":false},\"nullable\":true,\"metadata\":{}}]}}"
        },
        {
         "metadata": "{}",
         "name": "probability",
         "type": "{\"type\":\"udt\",\"class\":\"org.apache.spark.ml.linalg.VectorUDT\",\"pyClass\":\"pyspark.ml.linalg.VectorUDT\",\"sqlType\":{\"type\":\"struct\",\"fields\":[{\"name\":\"type\",\"type\":\"byte\",\"nullable\":false,\"metadata\":{}},{\"name\":\"size\",\"type\":\"integer\",\"nullable\":true,\"metadata\":{}},{\"name\":\"indices\",\"type\":{\"type\":\"array\",\"elementType\":\"integer\",\"containsNull\":false},\"nullable\":true,\"metadata\":{}},{\"name\":\"values\",\"type\":{\"type\":\"array\",\"elementType\":\"double\",\"containsNull\":false},\"nullable\":true,\"metadata\":{}}]}}"
        },
        {
         "metadata": "{}",
         "name": "prediction",
         "type": "\"long\""
        },
        {
         "metadata": "{}",
         "name": "trueLabel",
         "type": "\"long\""
        }
       ],
       "type": "table"
      }
     },
     "output_type": "display_data"
    }
   ],
   "source": [
    "# apply the pipeline to the test data\n",
    "prediction = model.transform(test)\n",
    "predicted = prediction.select(\"Features\", \"probability\", col(\"prediction\").astype(\"Int\"), col(\"Species\").alias(\"trueLabel\"))\n",
    "display(predicted.head(4))"
   ]
  },
  {
   "cell_type": "markdown",
   "metadata": {
    "application/vnd.databricks.v1+cell": {
     "cellMetadata": {},
     "inputWidgets": {},
     "nuid": "89c7ff20-8d07-4d35-9254-41b55a1c8dbe",
     "showTitle": false,
     "title": ""
    }
   },
   "source": [
    "#### Try Decision Tree algorithm"
   ]
  },
  {
   "cell_type": "code",
   "execution_count": 0,
   "metadata": {
    "application/vnd.databricks.v1+cell": {
     "cellMetadata": {
      "byteLimit": 2048000,
      "rowLimit": 10000
     },
     "inputWidgets": {},
     "nuid": "9ecd43a8-a6fc-4be9-a555-8e5d1f117afe",
     "showTitle": false,
     "title": ""
    }
   },
   "outputs": [
    {
     "output_type": "stream",
     "name": "stdout",
     "output_type": "stream",
     "text": [
      "Model trained!\n"
     ]
    }
   ],
   "source": [
    "from pyspark.ml import Pipeline\n",
    "from pyspark.ml.feature import StringIndexer, VectorAssembler, MinMaxScaler\n",
    "from pyspark.ml.classification import DecisionTreeClassifier\n",
    "   \n",
    "catFeature = \"Island\"\n",
    "numFeatures = [\"CulmenLength\", \"CulmenDepth\", \"FlipperLength\", \"BodyMass\"]\n",
    "   \n",
    "# Define the feature engineering and model steps\n",
    "catIndexer = StringIndexer(inputCol=catFeature, outputCol=catFeature + \"Idx\")\n",
    "numVector = VectorAssembler(inputCols=numFeatures, outputCol=\"numericFeatures\")\n",
    "numScaler = MinMaxScaler(inputCol = numVector.getOutputCol(), outputCol=\"normalizedFeatures\")\n",
    "featureVector = VectorAssembler(inputCols=[\"IslandIdx\", \"normalizedFeatures\"], outputCol=\"Features\")\n",
    "algo = DecisionTreeClassifier(labelCol=\"Species\", featuresCol=\"Features\", maxDepth=10)\n",
    "   \n",
    "# Chain the steps as stages in a pipeline\n",
    "pipeline = Pipeline(stages=[catIndexer, numVector, numScaler, featureVector, algo])\n",
    "   \n",
    "# Use the pipeline to prepare data and fit the model algorithm\n",
    "model = pipeline.fit(train)\n",
    "print (\"Model trained!\")"
   ]
  },
  {
   "cell_type": "code",
   "execution_count": 0,
   "metadata": {
    "application/vnd.databricks.v1+cell": {
     "cellMetadata": {
      "byteLimit": 2048000,
      "rowLimit": 10000
     },
     "inputWidgets": {},
     "nuid": "c59c426c-de53-4290-bcae-125d68eb4135",
     "showTitle": false,
     "title": ""
    }
   },
   "outputs": [
    {
     "output_type": "stream",
     "name": "stdout",
     "output_type": "stream",
     "text": [
      "Accuracy: 0.989247311827957\n\nIndividual class metrics:\nClass 0\n\tPrecision: 1.0\n\tRecall: 0.9696969696969697\n\tF1 Score: 0.9846153846153847\nClass 1\n\tPrecision: 1.0\n\tRecall: 1.0\n\tF1 Score: 1.0\nClass 2\n\tPrecision: 0.9615384615384616\n\tRecall: 1.0\n\tF1 Score: 0.9803921568627451\nOverall Precision: 0.989660876757651\nOverall Recall: 0.989247311827957\nOverall F1 Score: 0.9892700173535087\n"
     ]
    }
   ],
   "source": [
    "# Get predictions\n",
    "prediction = model.transform(test)\n",
    "predicted = prediction.select(\"Features\", \"probability\", col(\"prediction\").astype(\"Int\"), col(\"Species\").alias(\"trueLabel\"))\n",
    "   \n",
    "# Generate evaluation metrics\n",
    "from pyspark.ml.evaluation import MulticlassClassificationEvaluator\n",
    "   \n",
    "evaluator = MulticlassClassificationEvaluator(labelCol=\"Species\", predictionCol=\"prediction\")\n",
    "   \n",
    "# Simple accuracy\n",
    "accuracy = evaluator.evaluate(prediction, {evaluator.metricName:\"accuracy\"})\n",
    "print(\"Accuracy:\", accuracy)\n",
    "   \n",
    "# Class metrics\n",
    "labels = [0,1,2]\n",
    "print(\"\\nIndividual class metrics:\")\n",
    "for label in sorted(labels):\n",
    "    print (\"Class %s\" % (label))\n",
    "   \n",
    "    # Precision\n",
    "    precision = evaluator.evaluate(prediction, {evaluator.metricLabel:label,\n",
    "                                                    evaluator.metricName:\"precisionByLabel\"})\n",
    "    print(\"\\tPrecision:\", precision)\n",
    "   \n",
    "    # Recall\n",
    "    recall = evaluator.evaluate(prediction, {evaluator.metricLabel:label,\n",
    "                                             evaluator.metricName:\"recallByLabel\"})\n",
    "    print(\"\\tRecall:\", recall)\n",
    "   \n",
    "    # F1 score\n",
    "    f1 = evaluator.evaluate(prediction, {evaluator.metricLabel:label,\n",
    "                                         evaluator.metricName:\"fMeasureByLabel\"})\n",
    "    print(\"\\tF1 Score:\", f1)\n",
    "   \n",
    "# Weighed (overall) metrics\n",
    "overallPrecision = evaluator.evaluate(prediction, {evaluator.metricName:\"weightedPrecision\"})\n",
    "print(\"Overall Precision:\", overallPrecision)\n",
    "overallRecall = evaluator.evaluate(prediction, {evaluator.metricName:\"weightedRecall\"})\n",
    "print(\"Overall Recall:\", overallRecall)\n",
    "overallF1 = evaluator.evaluate(prediction, {evaluator.metricName:\"weightedFMeasure\"})\n",
    "print(\"Overall F1 Score:\", overallF1)"
   ]
  },
  {
   "cell_type": "markdown",
   "metadata": {
    "application/vnd.databricks.v1+cell": {
     "cellMetadata": {},
     "inputWidgets": {},
     "nuid": "cddec605-a8f7-4fb6-8cba-b67a52085890",
     "showTitle": false,
     "title": ""
    }
   },
   "source": [
    "#### Save the model"
   ]
  },
  {
   "cell_type": "code",
   "execution_count": 0,
   "metadata": {
    "application/vnd.databricks.v1+cell": {
     "cellMetadata": {
      "byteLimit": 2048000,
      "rowLimit": 10000
     },
     "inputWidgets": {},
     "nuid": "03a8290b-c01f-4eb6-aacf-4a7436c73c87",
     "showTitle": false,
     "title": ""
    }
   },
   "outputs": [],
   "source": [
    "model.save(\"/models/penguin.model\")"
   ]
  },
  {
   "cell_type": "code",
   "execution_count": 0,
   "metadata": {
    "application/vnd.databricks.v1+cell": {
     "cellMetadata": {
      "byteLimit": 2048000,
      "rowLimit": 10000
     },
     "inputWidgets": {},
     "nuid": "ac0ee199-ba41-44f9-8c57-9cb0ea62eb45",
     "showTitle": false,
     "title": ""
    }
   },
   "outputs": [
    {
     "output_type": "display_data",
     "data": {
      "text/html": [
       "<style scoped>\n",
       "  .table-result-container {\n",
       "    max-height: 300px;\n",
       "    overflow: auto;\n",
       "  }\n",
       "  table, th, td {\n",
       "    border: 1px solid black;\n",
       "    border-collapse: collapse;\n",
       "  }\n",
       "  th, td {\n",
       "    padding: 5px;\n",
       "  }\n",
       "  th {\n",
       "    text-align: left;\n",
       "  }\n",
       "</style><div class='table-result-container'><table class='table-result'><thead style='background-color: white'><tr><th>Island</th><th>CulmenDepth</th><th>CulmenLength</th><th>FlipperLength</th><th>BodyMass</th><th>PredictedSpecies</th></tr></thead><tbody><tr><td>Biscoe</td><td>14.5</td><td>47.6</td><td>215</td><td>5400</td><td>1.0</td></tr></tbody></table></div>"
      ]
     },
     "metadata": {
      "application/vnd.databricks.v1+output": {
       "addedWidgets": {},
       "aggData": [],
       "aggError": "",
       "aggOverflow": false,
       "aggSchema": [],
       "aggSeriesLimitReached": false,
       "aggType": "",
       "arguments": {},
       "columnCustomDisplayInfos": {},
       "data": [
        [
         "Biscoe",
         14.5,
         47.6,
         215,
         5400,
         1.0
        ]
       ],
       "datasetInfos": [],
       "dbfsResultPath": null,
       "isJsonSchema": true,
       "metadata": {},
       "overflow": false,
       "plotOptions": {
        "customPlotOptions": {},
        "displayType": "table",
        "pivotAggregation": null,
        "pivotColumns": null,
        "xColumns": null,
        "yColumns": null
       },
       "removedWidgets": [],
       "schema": [
        {
         "metadata": "{}",
         "name": "Island",
         "type": "\"string\""
        },
        {
         "metadata": "{}",
         "name": "CulmenDepth",
         "type": "\"double\""
        },
        {
         "metadata": "{}",
         "name": "CulmenLength",
         "type": "\"double\""
        },
        {
         "metadata": "{}",
         "name": "FlipperLength",
         "type": "\"long\""
        },
        {
         "metadata": "{}",
         "name": "BodyMass",
         "type": "\"long\""
        },
        {
         "metadata": "{\"ml_attr\":{\"type\":\"nominal\",\"num_vals\":3}}",
         "name": "PredictedSpecies",
         "type": "\"double\""
        }
       ],
       "type": "table"
      }
     },
     "output_type": "display_data"
    }
   ],
   "source": [
    "# load the model and use it to predict the species for a new penguin observation\n",
    "\n",
    "from pyspark.ml.pipeline import PipelineModel\n",
    "\n",
    "persistedModel = PipelineModel.load(\"/models/penguin.model\")\n",
    "   \n",
    "newData = spark.createDataFrame ([{\"Island\": \"Biscoe\",\n",
    "                                  \"CulmenLength\": 47.6,\n",
    "                                  \"CulmenDepth\": 14.5,\n",
    "                                  \"FlipperLength\": 215,\n",
    "                                  \"BodyMass\": 5400}])\n",
    "   \n",
    "   \n",
    "predictions = persistedModel.transform(newData)\n",
    "display(predictions.select(\"Island\", \"CulmenDepth\", \"CulmenLength\", \"FlipperLength\", \"BodyMass\", col(\"prediction\").alias(\"PredictedSpecies\")))"
   ]
  },
  {
   "cell_type": "code",
   "execution_count": 0,
   "metadata": {
    "application/vnd.databricks.v1+cell": {
     "cellMetadata": {
      "byteLimit": 2048000,
      "rowLimit": 10000
     },
     "inputWidgets": {},
     "nuid": "1eb48e41-6517-449f-a6ff-77eafb006416",
     "showTitle": false,
     "title": ""
    }
   },
   "outputs": [
    {
     "output_type": "display_data",
     "data": {
      "text/html": [
       "<style scoped>\n",
       "  .table-result-container {\n",
       "    max-height: 300px;\n",
       "    overflow: auto;\n",
       "  }\n",
       "  table, th, td {\n",
       "    border: 1px solid black;\n",
       "    border-collapse: collapse;\n",
       "  }\n",
       "  th, td {\n",
       "    padding: 5px;\n",
       "  }\n",
       "  th {\n",
       "    text-align: left;\n",
       "  }\n",
       "</style><div class='table-result-container'><table class='table-result'><thead style='background-color: white'><tr><th>Island</th><th>CulmenDepth</th><th>CulmenLength</th><th>FlipperLength</th><th>BodyMass</th><th>prediction</th></tr></thead><tbody><tr><td>Biscoe</td><td>14.5</td><td>47.6</td><td>215</td><td>5400</td><td>1.0</td></tr></tbody></table></div>"
      ]
     },
     "metadata": {
      "application/vnd.databricks.v1+output": {
       "addedWidgets": {},
       "aggData": [],
       "aggError": "",
       "aggOverflow": false,
       "aggSchema": [],
       "aggSeriesLimitReached": false,
       "aggType": "",
       "arguments": {},
       "columnCustomDisplayInfos": {},
       "data": [
        [
         "Biscoe",
         14.5,
         47.6,
         215,
         5400,
         1.0
        ]
       ],
       "datasetInfos": [],
       "dbfsResultPath": null,
       "isJsonSchema": true,
       "metadata": {},
       "overflow": false,
       "plotOptions": {
        "customPlotOptions": {},
        "displayType": "table",
        "pivotAggregation": null,
        "pivotColumns": null,
        "xColumns": null,
        "yColumns": null
       },
       "removedWidgets": [],
       "schema": [
        {
         "metadata": "{}",
         "name": "Island",
         "type": "\"string\""
        },
        {
         "metadata": "{}",
         "name": "CulmenDepth",
         "type": "\"double\""
        },
        {
         "metadata": "{}",
         "name": "CulmenLength",
         "type": "\"double\""
        },
        {
         "metadata": "{}",
         "name": "FlipperLength",
         "type": "\"long\""
        },
        {
         "metadata": "{}",
         "name": "BodyMass",
         "type": "\"long\""
        },
        {
         "metadata": "{\"ml_attr\":{\"type\":\"nominal\",\"num_vals\":3}}",
         "name": "prediction",
         "type": "\"double\""
        }
       ],
       "type": "table"
      }
     },
     "output_type": "display_data"
    }
   ],
   "source": [
    "display(predictions.select(\"Island\", \"CulmenDepth\", \"CulmenLength\", \"FlipperLength\", \"BodyMass\", col(\"prediction\")))"
   ]
  },
  {
   "cell_type": "code",
   "execution_count": 0,
   "metadata": {
    "application/vnd.databricks.v1+cell": {
     "cellMetadata": {},
     "inputWidgets": {},
     "nuid": "3b5e578d-47bd-4d34-a0d0-19caa57b167a",
     "showTitle": false,
     "title": ""
    }
   },
   "outputs": [],
   "source": []
  }
 ],
 "metadata": {
  "application/vnd.databricks.v1+notebook": {
   "dashboards": [],
   "language": "python",
   "notebookMetadata": {
    "mostRecentlyExecutedCommandWithImplicitDF": {
     "commandId": 2782592168434391,
     "dataframes": [
      "_sqldf"
     ]
    },
    "pythonIndentUnit": 4
   },
   "notebookName": "Get started with machine learning in Azure Databricks Notebook 2024-03-13 11:35:17",
   "widgets": {}
  }
 },
 "nbformat": 4,
 "nbformat_minor": 0
}
